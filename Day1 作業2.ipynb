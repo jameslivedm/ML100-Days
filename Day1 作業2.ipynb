{
 "cells": [
  {
   "cell_type": "markdown",
   "metadata": {},
   "source": [
    "# 想像你經營一個自由載客車隊，你希望能透過數據分析以提升業績，請你思考並描述你如何規劃整體的分析/解決方案："
   ]
  },
  {
   "cell_type": "markdown",
   "metadata": {},
   "source": [
    "## Q1. 核心問題為何 (tips：如何定義 「提升業績 & 你的假設」)?"
   ]
  },
  {
   "cell_type": "markdown",
   "metadata": {},
   "source": [
    "A1. 如何提升司機招攬到旅客的機率？跟那些因素有關？需收集載客的次數。\n",
    "假設：招攬到旅客的機率，主要因素可能為地點、時間點，次要因素可能為性別、年齡、是否是本地人等有關"
   ]
  },
  {
   "cell_type": "markdown",
   "metadata": {},
   "source": [
    "## Q2.資料從何而來 (tips：哪些資料可能會對你想問的問題產生影響 & 資料如何蒐集)?"
   ]
  },
  {
   "cell_type": "markdown",
   "metadata": {},
   "source": [
    "A2. 時間、地點和載客次數可由統一的定位系統收集，性別、年齡、是否是本地人等可由司機判斷並登錄，若是電話叫車則可事先就收集。"
   ]
  },
  {
   "cell_type": "markdown",
   "metadata": {},
   "source": [
    "## Q3. 蒐集而來的資料型態為何?"
   ]
  },
  {
   "cell_type": "markdown",
   "metadata": {},
   "source": [
    "A3. 時間、文字和數字型態"
   ]
  },
  {
   "cell_type": "markdown",
   "metadata": {},
   "source": [
    "## Q4. 你要回答的問題，其如何評估 (tips：你的假設如何驗證)?"
   ]
  },
  {
   "cell_type": "markdown",
   "metadata": {},
   "source": [
    "A4. 由「載客次數」評估，後續處理資料須針對每筆資料加上特殊ID特殊值以做資料整合時使用，其餘資料可作為參數，可由此推估參數與主要指標(載客次數)相關性，並可作為建模參考"
   ]
  },
  {
   "cell_type": "code",
   "execution_count": null,
   "metadata": {},
   "outputs": [],
   "source": []
  }
 ],
 "metadata": {
  "kernelspec": {
   "display_name": "Python 3",
   "language": "python",
   "name": "python3"
  },
  "language_info": {
   "codemirror_mode": {
    "name": "ipython",
    "version": 3
   },
   "file_extension": ".py",
   "mimetype": "text/x-python",
   "name": "python",
   "nbconvert_exporter": "python",
   "pygments_lexer": "ipython3",
   "version": "3.7.0"
  }
 },
 "nbformat": 4,
 "nbformat_minor": 2
}
