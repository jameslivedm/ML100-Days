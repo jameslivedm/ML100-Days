{
 "cells": [
  {
   "cell_type": "markdown",
   "metadata": {},
   "source": [
    "## Work\n",
    "1. 請嘗試將 preproc_x 替換成以每筆資料的 min/max 進行標準化至 -1 ~ 1 間，再進行訓練\n",
    "2. 請嘗試將 mlp 疊更深 (e.g 5~10 層)，進行訓練後觀察 learning curve 的走勢\n",
    "3. (optional) 請改用 GPU 進行訓練 (如果你有 GPU 的話)，比較使用 CPU 與 GPU 的訓練速度"
   ]
  },
  {
   "cell_type": "code",
   "execution_count": 10,
   "metadata": {},
   "outputs": [],
   "source": [
    "import os\n",
    "import tensorflow as tf\n",
    "from sklearn.preprocessing import MinMaxScaler"
   ]
  },
  {
   "cell_type": "code",
   "execution_count": 9,
   "metadata": {},
   "outputs": [],
   "source": [
    "train, test = tf.keras.datasets.cifar10.load_data()"
   ]
  },
  {
   "cell_type": "code",
   "execution_count": 16,
   "metadata": {},
   "outputs": [],
   "source": [
    "## 資料前處理\n",
    "def preproc_x(x, flatten=True):\n",
    "    x = x / 255.\n",
    "    if flatten:\n",
    "        x = x.reshape((len(x), -1))\n",
    "    return x\n",
    "\n",
    "def preproc_y(y, num_classes=10):\n",
    "    if y.shape[-1] == 1:\n",
    "        y = tf.keras.utils.to_categorical(y, num_classes)\n",
    "    return y   "
   ]
  },
  {
   "cell_type": "code",
   "execution_count": 17,
   "metadata": {
    "scrolled": true
   },
   "outputs": [],
   "source": [
    "x_train, y_train = train\n",
    "x_test, y_test = test\n",
    "\n",
    "# Preproc the inputs\n",
    "x_train = preproc_x(x_train)\n",
    "x_test = preproc_x(x_test)\n",
    "\n",
    "# Preprc the outputs\n",
    "y_train = preproc_y(y_train)\n",
    "y_test = preproc_y(y_test)"
   ]
  },
  {
   "cell_type": "code",
   "execution_count": 20,
   "metadata": {},
   "outputs": [
    {
     "name": "stdout",
     "output_type": "stream",
     "text": [
      "_________________________________________________________________\n",
      "Layer (type)                 Output Shape              Param #   \n",
      "=================================================================\n",
      "input_2 (InputLayer)         (None, 3072)              0         \n",
      "_________________________________________________________________\n",
      "hidden_layer1 (Dense)        (None, 512)               1573376   \n",
      "_________________________________________________________________\n",
      "hidden_layer2 (Dense)        (None, 256)               131328    \n",
      "_________________________________________________________________\n",
      "hidden_layer3 (Dense)        (None, 256)               65792     \n",
      "_________________________________________________________________\n",
      "hidden_layer4 (Dense)        (None, 128)               32896     \n",
      "_________________________________________________________________\n",
      "hidden_layer5 (Dense)        (None, 128)               16512     \n",
      "_________________________________________________________________\n",
      "output (Dense)               (None, 10)                1290      \n",
      "=================================================================\n",
      "Total params: 1,821,194\n",
      "Trainable params: 1,821,194\n",
      "Non-trainable params: 0\n",
      "_________________________________________________________________\n"
     ]
    }
   ],
   "source": [
    "def build_mlp(input_shape, output_units=10, num_neurons=[512,256, 256, 128,128]):\n",
    "    input_layer = tf.keras.layers.Input(input_shape)\n",
    "    \n",
    "    for i, n_units in enumerate(num_neurons):\n",
    "        if i == 0:\n",
    "            x = tf.keras.layers.Dense(units=n_units, activation=\"relu\", name=\"hidden_layer\"+str(i+1))(input_layer)\n",
    "        else:\n",
    "            x = tf.keras.layers.Dense(units=n_units, activation=\"relu\", name=\"hidden_layer\"+str(i+1))(x)\n",
    "    \n",
    "    out = tf.keras.layers.Dense(units=output_units, activation=\"softmax\", name=\"output\")(x)\n",
    "    \n",
    "    model = tf.keras.models.Model(inputs=[input_layer], outputs=[out])\n",
    "    return model\n",
    "model=build_mlp(input_shape=x_train.shape[1:])\n",
    "model.summary()"
   ]
  },
  {
   "cell_type": "code",
   "execution_count": 21,
   "metadata": {},
   "outputs": [],
   "source": [
    "## 超參數設定\n",
    "LEARNING_RATE = 0.001\n",
    "EPOCHS = 100\n",
    "BATCH_SIZE = 256"
   ]
  },
  {
   "cell_type": "code",
   "execution_count": 22,
   "metadata": {},
   "outputs": [],
   "source": [
    "optimizer = tf.keras.optimizers.Adam(lr=LEARNING_RATE)\n",
    "model.compile(loss=\"categorical_crossentropy\", metrics=[\"accuracy\"], optimizer=optimizer)"
   ]
  },
  {
   "cell_type": "code",
   "execution_count": 23,
   "metadata": {},
   "outputs": [
    {
     "name": "stdout",
     "output_type": "stream",
     "text": [
      "Train on 50000 samples, validate on 10000 samples\n",
      "WARNING:tensorflow:From D:\\Anaconda3\\lib\\site-packages\\tensorflow\\python\\ops\\math_ops.py:3066: to_int32 (from tensorflow.python.ops.math_ops) is deprecated and will be removed in a future version.\n",
      "Instructions for updating:\n",
      "Use tf.cast instead.\n",
      "Epoch 1/100\n",
      "50000/50000 [==============================] - 8s 158us/sample - loss: 1.9166 - acc: 0.3013 - val_loss: 1.7322 - val_acc: 0.3757\n",
      "Epoch 2/100\n",
      "50000/50000 [==============================] - 8s 153us/sample - loss: 1.7174 - acc: 0.3794 - val_loss: 1.6765 - val_acc: 0.4041\n",
      "Epoch 3/100\n",
      "50000/50000 [==============================] - 7s 142us/sample - loss: 1.6265 - acc: 0.4147 - val_loss: 1.5830 - val_acc: 0.4311\n",
      "Epoch 4/100\n",
      "50000/50000 [==============================] - 7s 138us/sample - loss: 1.5552 - acc: 0.4417 - val_loss: 1.5462 - val_acc: 0.4390\n",
      "Epoch 5/100\n",
      "50000/50000 [==============================] - 7s 137us/sample - loss: 1.4990 - acc: 0.4633 - val_loss: 1.5088 - val_acc: 0.4569\n",
      "Epoch 6/100\n",
      "50000/50000 [==============================] - 7s 138us/sample - loss: 1.4667 - acc: 0.4732 - val_loss: 1.5514 - val_acc: 0.4449\n",
      "Epoch 7/100\n",
      "50000/50000 [==============================] - 7s 139us/sample - loss: 1.4478 - acc: 0.4806 - val_loss: 1.4481 - val_acc: 0.4835\n",
      "Epoch 8/100\n",
      "50000/50000 [==============================] - 7s 138us/sample - loss: 1.4073 - acc: 0.4949 - val_loss: 1.4482 - val_acc: 0.4902\n",
      "Epoch 9/100\n",
      "50000/50000 [==============================] - 7s 138us/sample - loss: 1.3889 - acc: 0.5011 - val_loss: 1.4423 - val_acc: 0.4840\n",
      "Epoch 10/100\n",
      "50000/50000 [==============================] - 7s 139us/sample - loss: 1.3473 - acc: 0.5173 - val_loss: 1.4810 - val_acc: 0.4758\n",
      "Epoch 11/100\n",
      "50000/50000 [==============================] - 7s 137us/sample - loss: 1.3261 - acc: 0.5281 - val_loss: 1.4224 - val_acc: 0.4968\n",
      "Epoch 12/100\n",
      "50000/50000 [==============================] - 7s 138us/sample - loss: 1.2994 - acc: 0.5340 - val_loss: 1.4683 - val_acc: 0.4781\n",
      "Epoch 13/100\n",
      "50000/50000 [==============================] - 7s 137us/sample - loss: 1.2761 - acc: 0.5433 - val_loss: 1.3841 - val_acc: 0.5104\n",
      "Epoch 14/100\n",
      "50000/50000 [==============================] - 7s 137us/sample - loss: 1.2599 - acc: 0.5498 - val_loss: 1.4515 - val_acc: 0.4896\n",
      "Epoch 15/100\n",
      "50000/50000 [==============================] - 7s 137us/sample - loss: 1.2276 - acc: 0.5598 - val_loss: 1.3990 - val_acc: 0.5151\n",
      "Epoch 16/100\n",
      "50000/50000 [==============================] - 7s 137us/sample - loss: 1.2009 - acc: 0.5713 - val_loss: 1.4036 - val_acc: 0.5100\n",
      "Epoch 17/100\n",
      "50000/50000 [==============================] - 7s 138us/sample - loss: 1.1816 - acc: 0.5766 - val_loss: 1.3771 - val_acc: 0.5168\n",
      "Epoch 18/100\n",
      "50000/50000 [==============================] - 7s 137us/sample - loss: 1.1585 - acc: 0.5843 - val_loss: 1.4063 - val_acc: 0.5173\n",
      "Epoch 19/100\n",
      "50000/50000 [==============================] - 7s 138us/sample - loss: 1.1468 - acc: 0.5876 - val_loss: 1.4002 - val_acc: 0.5102\n",
      "Epoch 20/100\n",
      "50000/50000 [==============================] - 7s 137us/sample - loss: 1.1139 - acc: 0.6030 - val_loss: 1.4126 - val_acc: 0.5187\n",
      "Epoch 21/100\n",
      "50000/50000 [==============================] - 7s 137us/sample - loss: 1.0908 - acc: 0.6072 - val_loss: 1.4054 - val_acc: 0.5223\n",
      "Epoch 22/100\n",
      "50000/50000 [==============================] - 7s 138us/sample - loss: 1.0615 - acc: 0.6189 - val_loss: 1.3871 - val_acc: 0.5212\n",
      "Epoch 23/100\n",
      "50000/50000 [==============================] - 7s 137us/sample - loss: 1.0298 - acc: 0.6308 - val_loss: 1.4056 - val_acc: 0.5227\n",
      "Epoch 24/100\n",
      "50000/50000 [==============================] - 7s 137us/sample - loss: 1.0179 - acc: 0.6341 - val_loss: 1.4028 - val_acc: 0.5275\n",
      "Epoch 25/100\n",
      "50000/50000 [==============================] - 8s 153us/sample - loss: 0.9882 - acc: 0.6442 - val_loss: 1.5013 - val_acc: 0.5028\n",
      "Epoch 26/100\n",
      "50000/50000 [==============================] - 7s 150us/sample - loss: 0.9665 - acc: 0.6514 - val_loss: 1.4600 - val_acc: 0.5148\n",
      "Epoch 27/100\n",
      "50000/50000 [==============================] - 8s 165us/sample - loss: 0.9462 - acc: 0.6600 - val_loss: 1.4858 - val_acc: 0.5143\n",
      "Epoch 28/100\n",
      "50000/50000 [==============================] - 8s 155us/sample - loss: 0.9201 - acc: 0.6689 - val_loss: 1.4965 - val_acc: 0.5129\n",
      "Epoch 29/100\n",
      "50000/50000 [==============================] - 7s 147us/sample - loss: 0.8893 - acc: 0.6792 - val_loss: 1.5481 - val_acc: 0.5074\n",
      "Epoch 30/100\n",
      "50000/50000 [==============================] - 7s 142us/sample - loss: 0.8784 - acc: 0.6848 - val_loss: 1.5073 - val_acc: 0.5156\n",
      "Epoch 31/100\n",
      "50000/50000 [==============================] - 8s 154us/sample - loss: 0.8492 - acc: 0.6944 - val_loss: 1.5771 - val_acc: 0.5074\n",
      "Epoch 32/100\n",
      "50000/50000 [==============================] - 8s 152us/sample - loss: 0.8250 - acc: 0.7029 - val_loss: 1.6058 - val_acc: 0.5080\n",
      "Epoch 33/100\n",
      "50000/50000 [==============================] - 8s 153us/sample - loss: 0.8087 - acc: 0.7077 - val_loss: 1.6167 - val_acc: 0.5099\n",
      "Epoch 34/100\n",
      "50000/50000 [==============================] - 8s 152us/sample - loss: 0.7745 - acc: 0.7226 - val_loss: 1.6344 - val_acc: 0.5150\n",
      "Epoch 35/100\n",
      "50000/50000 [==============================] - 8s 153us/sample - loss: 0.7637 - acc: 0.7231 - val_loss: 1.6462 - val_acc: 0.5127\n",
      "Epoch 36/100\n",
      "50000/50000 [==============================] - 8s 152us/sample - loss: 0.7380 - acc: 0.7325 - val_loss: 1.6784 - val_acc: 0.5082\n",
      "Epoch 37/100\n",
      "50000/50000 [==============================] - 8s 151us/sample - loss: 0.7262 - acc: 0.7392 - val_loss: 1.7375 - val_acc: 0.5068\n",
      "Epoch 38/100\n",
      "50000/50000 [==============================] - 8s 151us/sample - loss: 0.7088 - acc: 0.7432 - val_loss: 1.7237 - val_acc: 0.5146\n",
      "Epoch 39/100\n",
      "50000/50000 [==============================] - 8s 152us/sample - loss: 0.6761 - acc: 0.7548 - val_loss: 1.7572 - val_acc: 0.5056\n",
      "Epoch 40/100\n",
      "50000/50000 [==============================] - 8s 153us/sample - loss: 0.6436 - acc: 0.7690 - val_loss: 1.8737 - val_acc: 0.5030\n",
      "Epoch 41/100\n",
      "50000/50000 [==============================] - 7s 140us/sample - loss: 0.6506 - acc: 0.7631 - val_loss: 1.8395 - val_acc: 0.5037\n",
      "Epoch 42/100\n",
      "50000/50000 [==============================] - 7s 138us/sample - loss: 0.6217 - acc: 0.7750 - val_loss: 1.8877 - val_acc: 0.5087\n",
      "Epoch 43/100\n",
      "50000/50000 [==============================] - 7s 144us/sample - loss: 0.6109 - acc: 0.7803 - val_loss: 1.9518 - val_acc: 0.4997\n",
      "Epoch 44/100\n",
      "50000/50000 [==============================] - 9s 176us/sample - loss: 0.5807 - acc: 0.7913 - val_loss: 1.9398 - val_acc: 0.5174\n",
      "Epoch 45/100\n",
      "50000/50000 [==============================] - 7s 144us/sample - loss: 0.5689 - acc: 0.7962 - val_loss: 1.9808 - val_acc: 0.5149\n",
      "Epoch 46/100\n",
      "50000/50000 [==============================] - 7s 139us/sample - loss: 0.5604 - acc: 0.7977 - val_loss: 2.0569 - val_acc: 0.5104\n",
      "Epoch 47/100\n",
      "50000/50000 [==============================] - 8s 155us/sample - loss: 0.5486 - acc: 0.8020 - val_loss: 2.0367 - val_acc: 0.5039\n",
      "Epoch 48/100\n",
      "50000/50000 [==============================] - 7s 147us/sample - loss: 0.5225 - acc: 0.8120 - val_loss: 2.1771 - val_acc: 0.4920\n",
      "Epoch 49/100\n",
      "50000/50000 [==============================] - 7s 148us/sample - loss: 0.5268 - acc: 0.8089 - val_loss: 2.0506 - val_acc: 0.5103\n",
      "Epoch 50/100\n",
      "50000/50000 [==============================] - 8s 154us/sample - loss: 0.5151 - acc: 0.8139 - val_loss: 2.1601 - val_acc: 0.5071\n",
      "Epoch 51/100\n",
      "50000/50000 [==============================] - 7s 147us/sample - loss: 0.4884 - acc: 0.8227 - val_loss: 2.2326 - val_acc: 0.4959\n",
      "Epoch 52/100\n",
      "50000/50000 [==============================] - 8s 157us/sample - loss: 0.4759 - acc: 0.8295 - val_loss: 2.2618 - val_acc: 0.5040\n",
      "Epoch 53/100\n",
      "50000/50000 [==============================] - 8s 155us/sample - loss: 0.4487 - acc: 0.8382 - val_loss: 2.2888 - val_acc: 0.4980\n",
      "Epoch 54/100\n",
      "50000/50000 [==============================] - 7s 146us/sample - loss: 0.4669 - acc: 0.8317 - val_loss: 2.3883 - val_acc: 0.5007\n",
      "Epoch 55/100\n",
      "50000/50000 [==============================] - 7s 147us/sample - loss: 0.4395 - acc: 0.8428 - val_loss: 2.3811 - val_acc: 0.4983\n",
      "Epoch 56/100\n",
      "50000/50000 [==============================] - 7s 146us/sample - loss: 0.4309 - acc: 0.8432 - val_loss: 2.3939 - val_acc: 0.5052\n"
     ]
    },
    {
     "name": "stdout",
     "output_type": "stream",
     "text": [
      "Epoch 57/100\n",
      "50000/50000 [==============================] - 7s 148us/sample - loss: 0.4464 - acc: 0.8383 - val_loss: 2.4393 - val_acc: 0.4981\n",
      "Epoch 58/100\n",
      "50000/50000 [==============================] - 7s 146us/sample - loss: 0.4391 - acc: 0.8416 - val_loss: 2.4687 - val_acc: 0.5107\n",
      "Epoch 59/100\n",
      "50000/50000 [==============================] - 7s 147us/sample - loss: 0.4040 - acc: 0.8532 - val_loss: 2.5755 - val_acc: 0.5039\n",
      "Epoch 60/100\n",
      "50000/50000 [==============================] - 7s 145us/sample - loss: 0.4135 - acc: 0.8507 - val_loss: 2.4751 - val_acc: 0.5018\n",
      "Epoch 61/100\n",
      "50000/50000 [==============================] - 7s 150us/sample - loss: 0.3838 - acc: 0.8619 - val_loss: 2.5143 - val_acc: 0.5011\n",
      "Epoch 62/100\n",
      "50000/50000 [==============================] - 7s 146us/sample - loss: 0.3876 - acc: 0.8610 - val_loss: 2.5862 - val_acc: 0.4966\n",
      "Epoch 63/100\n",
      "50000/50000 [==============================] - 8s 153us/sample - loss: 0.4156 - acc: 0.8519 - val_loss: 2.6002 - val_acc: 0.4981\n",
      "Epoch 64/100\n",
      "50000/50000 [==============================] - 8s 158us/sample - loss: 0.3466 - acc: 0.8749 - val_loss: 2.7071 - val_acc: 0.5033\n",
      "Epoch 65/100\n",
      "50000/50000 [==============================] - 8s 151us/sample - loss: 0.3721 - acc: 0.8675 - val_loss: 2.7354 - val_acc: 0.4953\n",
      "Epoch 66/100\n",
      "50000/50000 [==============================] - 8s 152us/sample - loss: 0.3724 - acc: 0.8662 - val_loss: 2.6618 - val_acc: 0.5035\n",
      "Epoch 67/100\n",
      "50000/50000 [==============================] - 8s 151us/sample - loss: 0.3694 - acc: 0.8667 - val_loss: 2.7546 - val_acc: 0.4925\n",
      "Epoch 68/100\n",
      "50000/50000 [==============================] - 8s 152us/sample - loss: 0.3429 - acc: 0.8762 - val_loss: 2.8524 - val_acc: 0.4973\n",
      "Epoch 69/100\n",
      "50000/50000 [==============================] - 8s 152us/sample - loss: 0.3317 - acc: 0.8805 - val_loss: 2.8108 - val_acc: 0.5007\n",
      "Epoch 70/100\n",
      "50000/50000 [==============================] - 8s 153us/sample - loss: 0.3265 - acc: 0.8829 - val_loss: 2.9546 - val_acc: 0.4884\n",
      "Epoch 71/100\n",
      "50000/50000 [==============================] - 7s 139us/sample - loss: 0.3476 - acc: 0.8755 - val_loss: 2.8179 - val_acc: 0.4980\n",
      "Epoch 72/100\n",
      "50000/50000 [==============================] - 7s 149us/sample - loss: 0.3358 - acc: 0.8791 - val_loss: 2.8885 - val_acc: 0.4870\n",
      "Epoch 73/100\n",
      "50000/50000 [==============================] - 8s 157us/sample - loss: 0.3728 - acc: 0.8658 - val_loss: 3.0094 - val_acc: 0.4886\n",
      "Epoch 74/100\n",
      "50000/50000 [==============================] - 8s 161us/sample - loss: 0.3099 - acc: 0.8873 - val_loss: 2.9130 - val_acc: 0.5036\n",
      "Epoch 75/100\n",
      "50000/50000 [==============================] - 8s 154us/sample - loss: 0.2974 - acc: 0.8913 - val_loss: 3.0160 - val_acc: 0.5025\n",
      "Epoch 76/100\n",
      "50000/50000 [==============================] - 8s 152us/sample - loss: 0.3019 - acc: 0.8915 - val_loss: 2.9284 - val_acc: 0.5003\n",
      "Epoch 77/100\n",
      "50000/50000 [==============================] - 8s 152us/sample - loss: 0.2978 - acc: 0.8932 - val_loss: 3.0846 - val_acc: 0.4959\n",
      "Epoch 78/100\n",
      "50000/50000 [==============================] - 8s 152us/sample - loss: 0.3182 - acc: 0.8873 - val_loss: 3.0917 - val_acc: 0.5004\n",
      "Epoch 79/100\n",
      "50000/50000 [==============================] - 8s 151us/sample - loss: 0.2969 - acc: 0.8926 - val_loss: 3.1441 - val_acc: 0.4955\n",
      "Epoch 80/100\n",
      "50000/50000 [==============================] - 8s 153us/sample - loss: 0.3009 - acc: 0.8928 - val_loss: 3.1933 - val_acc: 0.4900\n",
      "Epoch 81/100\n",
      "50000/50000 [==============================] - 8s 152us/sample - loss: 0.2894 - acc: 0.8969 - val_loss: 3.0056 - val_acc: 0.4973\n",
      "Epoch 82/100\n",
      "50000/50000 [==============================] - 8s 151us/sample - loss: 0.2724 - acc: 0.9023 - val_loss: 3.2116 - val_acc: 0.5020\n",
      "Epoch 83/100\n",
      "50000/50000 [==============================] - 8s 151us/sample - loss: 0.2950 - acc: 0.8941 - val_loss: 3.1093 - val_acc: 0.5024\n",
      "Epoch 84/100\n",
      "50000/50000 [==============================] - 8s 152us/sample - loss: 0.2727 - acc: 0.9032 - val_loss: 3.1975 - val_acc: 0.4991\n",
      "Epoch 85/100\n",
      "50000/50000 [==============================] - 8s 152us/sample - loss: 0.2582 - acc: 0.9073 - val_loss: 3.2443 - val_acc: 0.4954\n",
      "Epoch 86/100\n",
      "50000/50000 [==============================] - 8s 151us/sample - loss: 0.2904 - acc: 0.8966 - val_loss: 3.1631 - val_acc: 0.4919\n",
      "Epoch 87/100\n",
      "50000/50000 [==============================] - 8s 153us/sample - loss: 0.2974 - acc: 0.8936 - val_loss: 3.1955 - val_acc: 0.4937\n",
      "Epoch 88/100\n",
      "50000/50000 [==============================] - 8s 151us/sample - loss: 0.2627 - acc: 0.9067 - val_loss: 3.3590 - val_acc: 0.4896\n",
      "Epoch 89/100\n",
      "50000/50000 [==============================] - 8s 153us/sample - loss: 0.2374 - acc: 0.9140 - val_loss: 3.3649 - val_acc: 0.4975\n",
      "Epoch 90/100\n",
      "50000/50000 [==============================] - 8s 151us/sample - loss: 0.2796 - acc: 0.8998 - val_loss: 3.3704 - val_acc: 0.4963\n",
      "Epoch 91/100\n",
      "50000/50000 [==============================] - 8s 151us/sample - loss: 0.2278 - acc: 0.9180 - val_loss: 3.4487 - val_acc: 0.4919\n",
      "Epoch 92/100\n",
      "50000/50000 [==============================] - 8s 151us/sample - loss: 0.2539 - acc: 0.9106 - val_loss: 3.3501 - val_acc: 0.4963\n",
      "Epoch 93/100\n",
      "50000/50000 [==============================] - 8s 151us/sample - loss: 0.2516 - acc: 0.9105 - val_loss: 3.4129 - val_acc: 0.4972\n",
      "Epoch 94/100\n",
      "50000/50000 [==============================] - 8s 154us/sample - loss: 0.2407 - acc: 0.9145 - val_loss: 3.4161 - val_acc: 0.4983\n",
      "Epoch 95/100\n",
      "50000/50000 [==============================] - 8s 159us/sample - loss: 0.2387 - acc: 0.9145 - val_loss: 3.4347 - val_acc: 0.4950\n",
      "Epoch 96/100\n",
      "50000/50000 [==============================] - 8s 153us/sample - loss: 0.2420 - acc: 0.9136 - val_loss: 3.4223 - val_acc: 0.4940\n",
      "Epoch 97/100\n",
      "50000/50000 [==============================] - 8s 157us/sample - loss: 0.2816 - acc: 0.9017 - val_loss: 3.3701 - val_acc: 0.4895\n",
      "Epoch 98/100\n",
      "50000/50000 [==============================] - 8s 157us/sample - loss: 0.2129 - acc: 0.9241 - val_loss: 3.5635 - val_acc: 0.4911\n",
      "Epoch 99/100\n",
      "50000/50000 [==============================] - 8s 153us/sample - loss: 0.2153 - acc: 0.9241 - val_loss: 3.3946 - val_acc: 0.4949\n",
      "Epoch 100/100\n",
      "50000/50000 [==============================] - 8s 154us/sample - loss: 0.2487 - acc: 0.9136 - val_loss: 3.4912 - val_acc: 0.4955\n"
     ]
    },
    {
     "data": {
      "text/plain": [
       "<tensorflow.python.keras.callbacks.History at 0x22a973d62b0>"
      ]
     },
     "execution_count": 23,
     "metadata": {},
     "output_type": "execute_result"
    }
   ],
   "source": [
    "model.fit(x_train, y_train, \n",
    "          epochs=EPOCHS, \n",
    "          batch_size=BATCH_SIZE, \n",
    "          validation_data=(x_test, y_test), \n",
    "          shuffle=True)"
   ]
  },
  {
   "cell_type": "code",
   "execution_count": 25,
   "metadata": {},
   "outputs": [
    {
     "data": {
      "image/png": "[encoded data removed]",
      "text/plain": [
       "<Figure size 432x288 with 1 Axes>"
      ]
     },
     "metadata": {
      "needs_background": "light"
     },
     "output_type": "display_data"
    },
    {
     "data": {
      "image/png": "[encoded data removed]",
      "text/plain": [
       "<Figure size 432x288 with 1 Axes>"
      ]
     },
     "metadata": {
      "needs_background": "light"
     },
     "output_type": "display_data"
    }
   ],
   "source": [
    "import matplotlib.pyplot as plt\n",
    "\n",
    "\n",
    "train_loss = model.history.history[\"loss\"]\n",
    "valid_loss = model.history.history[\"val_loss\"]\n",
    "\n",
    "train_acc = model.history.history[\"acc\"]\n",
    "valid_acc = model.history.history[\"val_acc\"]\n",
    "\n",
    "plt.plot(range(len(train_loss)), train_loss, label=\"train loss\")\n",
    "plt.plot(range(len(valid_loss)), valid_loss, label=\"valid loss\")\n",
    "plt.legend()\n",
    "plt.title(\"Loss\")\n",
    "plt.show()\n",
    "\n",
    "plt.plot(range(len(train_acc)), train_acc, label=\"train accuracy\")\n",
    "plt.plot(range(len(valid_acc)), valid_acc, label=\"valid accuracy\")\n",
    "plt.legend()\n",
    "plt.title(\"Accuracy\")\n",
    "plt.show()"
   ]
  },
  {
   "cell_type": "code",
   "execution_count": null,
   "metadata": {},
   "outputs": [],
   "source": []
  }
 ],
 "metadata": {
  "kernelspec": {
   "display_name": "Python 3",
   "language": "python",
   "name": "python3"
  },
  "language_info": {
   "codemirror_mode": {
    "name": "ipython",
    "version": 3
   },
   "file_extension": ".py",
   "mimetype": "text/x-python",
   "name": "python",
   "nbconvert_exporter": "python",
   "pygments_lexer": "ipython3",
   "version": "3.7.1"
  }
 },
 "nbformat": 4,
 "nbformat_minor": 2
}
