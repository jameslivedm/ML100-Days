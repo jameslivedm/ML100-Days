{
 "cells": [
  {
   "cell_type": "markdown",
   "metadata": {},
   "source": [
    "## Work\n",
    "1. 試改變 monitor \"Validation Accuracy\" 並比較結果\n",
    "2. 調整 earlystop 的等待次數至 10, 25 並比較結果"
   ]
  },
  {
   "cell_type": "code",
   "execution_count": 1,
   "metadata": {},
   "outputs": [],
   "source": [
    "import os\n",
    "import tensorflow as tf\n",
    "import matplotlib.pyplot as plt\n",
    "%matplotlib inline\n",
    "\n",
    "\n",
    "# Disable GPU\n",
    "os.environ[\"CUDA_VISIBLE_DEVICES\"] = \"\""
   ]
  },
  {
   "cell_type": "code",
   "execution_count": 3,
   "metadata": {},
   "outputs": [],
   "source": [
    "train, test = tf.keras.datasets.cifar10.load_data()"
   ]
  },
  {
   "cell_type": "code",
   "execution_count": 4,
   "metadata": {},
   "outputs": [],
   "source": [
    "## 資料前處理\n",
    "def preproc_x(x, flatten=True):\n",
    "    x = x / 255.\n",
    "    if flatten:\n",
    "        x = x.reshape((len(x), -1))\n",
    "    return x\n",
    "\n",
    "def preproc_y(y, num_classes=10):\n",
    "    if y.shape[-1] == 1:\n",
    "        y = tf.keras.utils.to_categorical(y, num_classes)\n",
    "    return y    "
   ]
  },
  {
   "cell_type": "code",
   "execution_count": 5,
   "metadata": {},
   "outputs": [],
   "source": [
    "x_train, y_train = train\n",
    "x_test, y_test = test\n",
    "\n",
    "# Preproc the inputs\n",
    "x_train = preproc_x(x_train)\n",
    "x_test = preproc_x(x_test)\n",
    "\n",
    "# Preprc the outputs\n",
    "y_train = preproc_y(y_train)\n",
    "y_test = preproc_y(y_test)"
   ]
  },
  {
   "cell_type": "code",
   "execution_count": 6,
   "metadata": {},
   "outputs": [],
   "source": [
    "from tensorflow.keras.layers import BatchNormalization\n",
    "def build_mlp(input_shape, output_units=10, num_neurons=[512, 256, 128]):\n",
    "    input_layer = tf.keras.layers.Input(input_shape)\n",
    "    \n",
    "    for i, n_units in enumerate(num_neurons):\n",
    "        if i == 0:\n",
    "            x = tf.keras.layers.Dense(units=n_units, \n",
    "                                   activation=\"relu\", \n",
    "                                   name=\"hidden_layer\"+str(i+1))(input_layer)\n",
    "            x = BatchNormalization()(x)\n",
    "        else:\n",
    "            x = tf.keras.layers.Dense(units=n_units, \n",
    "                                   activation=\"relu\", \n",
    "                                   name=\"hidden_layer\"+str(i+1))(x)\n",
    "            x = BatchNormalization()(x)\n",
    "    \n",
    "    out = tf.keras.layers.Dense(units=output_units, activation=\"softmax\", name=\"output\")(x)\n",
    "    \n",
    "    model = tf.keras.models.Model(inputs=[input_layer], outputs=[out])\n",
    "    return model"
   ]
  },
  {
   "cell_type": "code",
   "execution_count": 7,
   "metadata": {},
   "outputs": [],
   "source": [
    "## 超參數設定\n",
    "LEARNING_RATE = 1e-3\n",
    "EPOCHS = 50\n",
    "BATCH_SIZE = 1024\n",
    "MOMENTUM = 0.95"
   ]
  },
  {
   "cell_type": "markdown",
   "metadata": {},
   "source": [
    "### Early stop val_acc, patience=10"
   ]
  },
  {
   "cell_type": "code",
   "execution_count": 8,
   "metadata": {
    "scrolled": true
   },
   "outputs": [
    {
     "name": "stdout",
     "output_type": "stream",
     "text": [
      "WARNING:tensorflow:From D:\\Anaconda3\\lib\\site-packages\\tensorflow\\python\\ops\\resource_variable_ops.py:435: colocate_with (from tensorflow.python.framework.ops) is deprecated and will be removed in a future version.\n",
      "Instructions for updating:\n",
      "Colocations handled automatically by placer.\n",
      "_________________________________________________________________\n",
      "Layer (type)                 Output Shape              Param #   \n",
      "=================================================================\n",
      "input_1 (InputLayer)         (None, 3072)              0         \n",
      "_________________________________________________________________\n",
      "hidden_layer1 (Dense)        (None, 512)               1573376   \n",
      "_________________________________________________________________\n",
      "batch_normalization_v1 (Batc (None, 512)               2048      \n",
      "_________________________________________________________________\n",
      "hidden_layer2 (Dense)        (None, 256)               131328    \n",
      "_________________________________________________________________\n",
      "batch_normalization_v1_1 (Ba (None, 256)               1024      \n",
      "_________________________________________________________________\n",
      "hidden_layer3 (Dense)        (None, 128)               32896     \n",
      "_________________________________________________________________\n",
      "batch_normalization_v1_2 (Ba (None, 128)               512       \n",
      "_________________________________________________________________\n",
      "output (Dense)               (None, 10)                1290      \n",
      "=================================================================\n",
      "Total params: 1,742,474\n",
      "Trainable params: 1,740,682\n",
      "Non-trainable params: 1,792\n",
      "_________________________________________________________________\n",
      "Train on 50000 samples, validate on 10000 samples\n",
      "WARNING:tensorflow:From D:\\Anaconda3\\lib\\site-packages\\tensorflow\\python\\ops\\math_ops.py:3066: to_int32 (from tensorflow.python.ops.math_ops) is deprecated and will be removed in a future version.\n",
      "Instructions for updating:\n",
      "Use tf.cast instead.\n",
      "Epoch 1/50\n",
      "50000/50000 [==============================] - 5s 106us/sample - loss: 2.1951 - acc: 0.2773 - val_loss: 2.1535 - val_acc: 0.1976\n",
      "Epoch 2/50\n",
      "50000/50000 [==============================] - 4s 85us/sample - loss: 1.7425 - acc: 0.3914 - val_loss: 1.9914 - val_acc: 0.2809\n",
      "Epoch 3/50\n",
      "50000/50000 [==============================] - 4s 88us/sample - loss: 1.6171 - acc: 0.4349 - val_loss: 1.8311 - val_acc: 0.3604\n",
      "Epoch 4/50\n",
      "50000/50000 [==============================] - 4s 86us/sample - loss: 1.5413 - acc: 0.4618 - val_loss: 1.7303 - val_acc: 0.3921\n",
      "Epoch 5/50\n",
      "50000/50000 [==============================] - 4s 87us/sample - loss: 1.4874 - acc: 0.4788 - val_loss: 1.6515 - val_acc: 0.4188\n",
      "Epoch 6/50\n",
      "50000/50000 [==============================] - 4s 86us/sample - loss: 1.4410 - acc: 0.4980 - val_loss: 1.5968 - val_acc: 0.4317\n",
      "Epoch 7/50\n",
      "50000/50000 [==============================] - 4s 86us/sample - loss: 1.4005 - acc: 0.5122 - val_loss: 1.5692 - val_acc: 0.4438\n",
      "Epoch 8/50\n",
      "50000/50000 [==============================] - 4s 85us/sample - loss: 1.3657 - acc: 0.5246 - val_loss: 1.5384 - val_acc: 0.4525\n",
      "Epoch 9/50\n",
      "50000/50000 [==============================] - 4s 86us/sample - loss: 1.3350 - acc: 0.5369 - val_loss: 1.5142 - val_acc: 0.4642\n",
      "Epoch 10/50\n",
      "50000/50000 [==============================] - 4s 86us/sample - loss: 1.3027 - acc: 0.5486 - val_loss: 1.5044 - val_acc: 0.4684\n",
      "Epoch 11/50\n",
      "50000/50000 [==============================] - 4s 85us/sample - loss: 1.2754 - acc: 0.5592 - val_loss: 1.5002 - val_acc: 0.4662\n",
      "Epoch 12/50\n",
      "50000/50000 [==============================] - 4s 85us/sample - loss: 1.2494 - acc: 0.5686 - val_loss: 1.4940 - val_acc: 0.4697\n",
      "Epoch 13/50\n",
      "50000/50000 [==============================] - 4s 86us/sample - loss: 1.2215 - acc: 0.5792 - val_loss: 1.4857 - val_acc: 0.4715\n",
      "Epoch 14/50\n",
      "50000/50000 [==============================] - 5s 90us/sample - loss: 1.1955 - acc: 0.5901 - val_loss: 1.4858 - val_acc: 0.4770\n",
      "Epoch 15/50\n",
      "50000/50000 [==============================] - 4s 84us/sample - loss: 1.1724 - acc: 0.5978 - val_loss: 1.4855 - val_acc: 0.4789\n",
      "Epoch 16/50\n",
      "50000/50000 [==============================] - 4s 84us/sample - loss: 1.1489 - acc: 0.6072 - val_loss: 1.4774 - val_acc: 0.4849\n",
      "Epoch 17/50\n",
      "50000/50000 [==============================] - 4s 86us/sample - loss: 1.1257 - acc: 0.6147 - val_loss: 1.4783 - val_acc: 0.4812\n",
      "Epoch 18/50\n",
      "50000/50000 [==============================] - 4s 88us/sample - loss: 1.1034 - acc: 0.6242 - val_loss: 1.4662 - val_acc: 0.4886\n",
      "Epoch 19/50\n",
      "50000/50000 [==============================] - 4s 86us/sample - loss: 1.0797 - acc: 0.6333 - val_loss: 1.4821 - val_acc: 0.4854\n",
      "Epoch 20/50\n",
      "50000/50000 [==============================] - 4s 86us/sample - loss: 1.0590 - acc: 0.6393 - val_loss: 1.4715 - val_acc: 0.4848\n",
      "Epoch 21/50\n",
      "50000/50000 [==============================] - 4s 86us/sample - loss: 1.0371 - acc: 0.6483 - val_loss: 1.4759 - val_acc: 0.4873\n",
      "Epoch 22/50\n",
      "50000/50000 [==============================] - 4s 88us/sample - loss: 1.0159 - acc: 0.6567 - val_loss: 1.4721 - val_acc: 0.4878\n",
      "Epoch 23/50\n",
      "50000/50000 [==============================] - 4s 88us/sample - loss: 0.9955 - acc: 0.6638 - val_loss: 1.4788 - val_acc: 0.4857\n",
      "Epoch 24/50\n",
      "50000/50000 [==============================] - 5s 92us/sample - loss: 0.9742 - acc: 0.6720 - val_loss: 1.4886 - val_acc: 0.4889\n",
      "Epoch 25/50\n",
      "50000/50000 [==============================] - 4s 82us/sample - loss: 0.9540 - acc: 0.6794 - val_loss: 1.4799 - val_acc: 0.4937\n",
      "Epoch 26/50\n",
      "50000/50000 [==============================] - 4s 82us/sample - loss: 0.9340 - acc: 0.6877 - val_loss: 1.4839 - val_acc: 0.4944\n",
      "Epoch 27/50\n",
      "50000/50000 [==============================] - 4s 83us/sample - loss: 0.9131 - acc: 0.6972 - val_loss: 1.4909 - val_acc: 0.4932\n",
      "Epoch 28/50\n",
      "50000/50000 [==============================] - 4s 82us/sample - loss: 0.8959 - acc: 0.7033 - val_loss: 1.5146 - val_acc: 0.4824\n",
      "Epoch 29/50\n",
      "50000/50000 [==============================] - 4s 81us/sample - loss: 0.8744 - acc: 0.7103 - val_loss: 1.5108 - val_acc: 0.4878\n",
      "Epoch 30/50\n",
      "50000/50000 [==============================] - 4s 81us/sample - loss: 0.8541 - acc: 0.7203 - val_loss: 1.4976 - val_acc: 0.4965\n",
      "Epoch 31/50\n",
      "50000/50000 [==============================] - 4s 81us/sample - loss: 0.8338 - acc: 0.7267 - val_loss: 1.5085 - val_acc: 0.4933\n",
      "Epoch 32/50\n",
      "50000/50000 [==============================] - 4s 80us/sample - loss: 0.8140 - acc: 0.7348 - val_loss: 1.5235 - val_acc: 0.4916\n",
      "Epoch 33/50\n",
      "50000/50000 [==============================] - 4s 80us/sample - loss: 0.7964 - acc: 0.7415 - val_loss: 1.5121 - val_acc: 0.4979\n",
      "Epoch 34/50\n",
      "50000/50000 [==============================] - 4s 81us/sample - loss: 0.7774 - acc: 0.7483 - val_loss: 1.5506 - val_acc: 0.4879\n",
      "Epoch 35/50\n",
      "50000/50000 [==============================] - 4s 81us/sample - loss: 0.7605 - acc: 0.7544 - val_loss: 1.5577 - val_acc: 0.4864\n",
      "Epoch 36/50\n",
      "50000/50000 [==============================] - 4s 81us/sample - loss: 0.7386 - acc: 0.7642 - val_loss: 1.5435 - val_acc: 0.4903\n",
      "Epoch 37/50\n",
      "50000/50000 [==============================] - 4s 80us/sample - loss: 0.7215 - acc: 0.7722 - val_loss: 1.5611 - val_acc: 0.4935\n",
      "Epoch 38/50\n",
      "50000/50000 [==============================] - 4s 80us/sample - loss: 0.7020 - acc: 0.7778 - val_loss: 1.5735 - val_acc: 0.4869\n",
      "Epoch 39/50\n",
      "50000/50000 [==============================] - 4s 80us/sample - loss: 0.6845 - acc: 0.7871 - val_loss: 1.5596 - val_acc: 0.4918\n",
      "Epoch 40/50\n",
      "50000/50000 [==============================] - 4s 80us/sample - loss: 0.6650 - acc: 0.7948 - val_loss: 1.5831 - val_acc: 0.4874\n",
      "Epoch 41/50\n",
      "50000/50000 [==============================] - 4s 80us/sample - loss: 0.6484 - acc: 0.8005 - val_loss: 1.5964 - val_acc: 0.4930\n",
      "Epoch 42/50\n",
      "50000/50000 [==============================] - 4s 80us/sample - loss: 0.6307 - acc: 0.8085 - val_loss: 1.5922 - val_acc: 0.4848\n",
      "Epoch 43/50\n",
      "50000/50000 [==============================] - 4s 81us/sample - loss: 0.6113 - acc: 0.8160 - val_loss: 1.6169 - val_acc: 0.4851\n",
      "Epoch 00043: early stopping\n"
     ]
    }
   ],
   "source": [
    "# 載入 Callbacks\n",
    "from tensorflow.keras.callbacks import EarlyStopping\n",
    "\n",
    "earlystop = EarlyStopping(monitor=\"val_acc\", \n",
    "                          patience=10, \n",
    "                          verbose=1\n",
    "                          )\n",
    "\n",
    "model = build_mlp(input_shape=x_train.shape[1:])\n",
    "model.summary()\n",
    "optimizer = tf.keras.optimizers.SGD(lr=LEARNING_RATE, nesterov=True, momentum=MOMENTUM)\n",
    "model.compile(loss=\"categorical_crossentropy\", metrics=[\"accuracy\"], optimizer=optimizer)\n",
    "\n",
    "model.fit(x_train, y_train, \n",
    "          epochs=EPOCHS, \n",
    "          batch_size=BATCH_SIZE, \n",
    "          validation_data=(x_test, y_test), \n",
    "          shuffle=True,\n",
    "          callbacks=[earlystop]\n",
    "         )\n",
    "\n",
    "# Collect results\n",
    "train_loss = model.history.history[\"loss\"]\n",
    "valid_loss = model.history.history[\"val_loss\"]\n",
    "train_acc = model.history.history[\"acc\"]\n",
    "valid_acc = model.history.history[\"val_acc\"]"
   ]
  },
  {
   "cell_type": "code",
   "execution_count": 9,
   "metadata": {},
   "outputs": [
    {
     "data": {
      "image/png": "[encoded data removed]",
      "text/plain": [
       "<Figure size 432x288 with 1 Axes>"
      ]
     },
     "metadata": {
      "needs_background": "light"
     },
     "output_type": "display_data"
    },
    {
     "data": {
      "image/png": "[encoded data removed]",
      "text/plain": [
       "<Figure size 432x288 with 1 Axes>"
      ]
     },
     "metadata": {
      "needs_background": "light"
     },
     "output_type": "display_data"
    }
   ],
   "source": [
    "plt.plot(range(len(train_loss)), train_loss, label=\"train loss\")\n",
    "plt.plot(range(len(valid_loss)), valid_loss, label=\"valid loss\")\n",
    "plt.legend()\n",
    "plt.title(\"Loss\")\n",
    "plt.show()\n",
    "\n",
    "plt.plot(range(len(train_acc)), train_acc, label=\"train accuracy\")\n",
    "plt.plot(range(len(valid_acc)), valid_acc, label=\"valid accuracy\")\n",
    "plt.legend()\n",
    "plt.title(\"Accuracy\")\n",
    "plt.show()"
   ]
  },
  {
   "cell_type": "markdown",
   "metadata": {},
   "source": [
    "### Early stop val_acc, patience=25"
   ]
  },
  {
   "cell_type": "code",
   "execution_count": 10,
   "metadata": {
    "scrolled": true
   },
   "outputs": [
    {
     "name": "stdout",
     "output_type": "stream",
     "text": [
      "_________________________________________________________________\n",
      "Layer (type)                 Output Shape              Param #   \n",
      "=================================================================\n",
      "input_2 (InputLayer)         (None, 3072)              0         \n",
      "_________________________________________________________________\n",
      "hidden_layer1 (Dense)        (None, 512)               1573376   \n",
      "_________________________________________________________________\n",
      "batch_normalization_v1_3 (Ba (None, 512)               2048      \n",
      "_________________________________________________________________\n",
      "hidden_layer2 (Dense)        (None, 256)               131328    \n",
      "_________________________________________________________________\n",
      "batch_normalization_v1_4 (Ba (None, 256)               1024      \n",
      "_________________________________________________________________\n",
      "hidden_layer3 (Dense)        (None, 128)               32896     \n",
      "_________________________________________________________________\n",
      "batch_normalization_v1_5 (Ba (None, 128)               512       \n",
      "_________________________________________________________________\n",
      "output (Dense)               (None, 10)                1290      \n",
      "=================================================================\n",
      "Total params: 1,742,474\n",
      "Trainable params: 1,740,682\n",
      "Non-trainable params: 1,792\n",
      "_________________________________________________________________\n",
      "Train on 50000 samples, validate on 10000 samples\n",
      "Epoch 1/50\n",
      "50000/50000 [==============================] - 5s 99us/sample - loss: 2.2272 - acc: 0.2666 - val_loss: 2.1319 - val_acc: 0.1841\n",
      "Epoch 2/50\n",
      "50000/50000 [==============================] - 4s 81us/sample - loss: 1.7387 - acc: 0.3939 - val_loss: 1.9588 - val_acc: 0.3003\n",
      "Epoch 3/50\n",
      "50000/50000 [==============================] - 5s 97us/sample - loss: 1.6155 - acc: 0.4355 - val_loss: 1.8103 - val_acc: 0.3799\n",
      "Epoch 4/50\n",
      "50000/50000 [==============================] - 5s 104us/sample - loss: 1.5437 - acc: 0.4599 - val_loss: 1.7185 - val_acc: 0.4065\n",
      "Epoch 5/50\n",
      "50000/50000 [==============================] - 6s 111us/sample - loss: 1.4876 - acc: 0.4812 - val_loss: 1.6293 - val_acc: 0.4329\n",
      "Epoch 6/50\n",
      "50000/50000 [==============================] - 6s 114us/sample - loss: 1.4424 - acc: 0.4971 - val_loss: 1.5930 - val_acc: 0.4448\n",
      "Epoch 7/50\n",
      "50000/50000 [==============================] - 6s 129us/sample - loss: 1.4032 - acc: 0.5122 - val_loss: 1.5447 - val_acc: 0.4536\n",
      "Epoch 8/50\n",
      "50000/50000 [==============================] - 7s 136us/sample - loss: 1.3683 - acc: 0.5239 - val_loss: 1.5250 - val_acc: 0.4598\n",
      "Epoch 9/50\n",
      "50000/50000 [==============================] - 7s 131us/sample - loss: 1.3366 - acc: 0.5339 - val_loss: 1.5045 - val_acc: 0.4703\n",
      "Epoch 10/50\n",
      "50000/50000 [==============================] - 7s 131us/sample - loss: 1.3073 - acc: 0.5464 - val_loss: 1.4964 - val_acc: 0.4735\n",
      "Epoch 11/50\n",
      "50000/50000 [==============================] - 6s 120us/sample - loss: 1.2782 - acc: 0.5549 - val_loss: 1.4977 - val_acc: 0.4657\n",
      "Epoch 12/50\n",
      "50000/50000 [==============================] - 6s 127us/sample - loss: 1.2509 - acc: 0.5664 - val_loss: 1.4820 - val_acc: 0.4810\n",
      "Epoch 13/50\n",
      "50000/50000 [==============================] - 6s 123us/sample - loss: 1.2257 - acc: 0.5791 - val_loss: 1.4844 - val_acc: 0.4707\n",
      "Epoch 14/50\n",
      "50000/50000 [==============================] - 5s 101us/sample - loss: 1.2027 - acc: 0.5836 - val_loss: 1.4700 - val_acc: 0.4791\n",
      "Epoch 15/50\n",
      "50000/50000 [==============================] - 5s 102us/sample - loss: 1.1775 - acc: 0.5948 - val_loss: 1.4693 - val_acc: 0.4838\n",
      "Epoch 16/50\n",
      "50000/50000 [==============================] - 5s 100us/sample - loss: 1.1534 - acc: 0.6037 - val_loss: 1.4609 - val_acc: 0.4854\n",
      "Epoch 17/50\n",
      "50000/50000 [==============================] - 5s 103us/sample - loss: 1.1302 - acc: 0.6122 - val_loss: 1.4722 - val_acc: 0.4852\n",
      "Epoch 18/50\n",
      "50000/50000 [==============================] - 5s 101us/sample - loss: 1.1095 - acc: 0.6210 - val_loss: 1.4531 - val_acc: 0.4882\n",
      "Epoch 19/50\n",
      "50000/50000 [==============================] - 5s 95us/sample - loss: 1.0873 - acc: 0.6276 - val_loss: 1.4629 - val_acc: 0.4877\n",
      "Epoch 20/50\n",
      "50000/50000 [==============================] - 5s 96us/sample - loss: 1.0664 - acc: 0.6362 - val_loss: 1.4575 - val_acc: 0.4937\n",
      "Epoch 21/50\n",
      "50000/50000 [==============================] - 5s 95us/sample - loss: 1.0455 - acc: 0.6461 - val_loss: 1.4572 - val_acc: 0.4914\n",
      "Epoch 22/50\n",
      "50000/50000 [==============================] - 5s 95us/sample - loss: 1.0237 - acc: 0.6536 - val_loss: 1.4684 - val_acc: 0.4856\n",
      "Epoch 23/50\n",
      "50000/50000 [==============================] - 5s 97us/sample - loss: 1.0036 - acc: 0.6612 - val_loss: 1.4674 - val_acc: 0.4897\n",
      "Epoch 24/50\n",
      "50000/50000 [==============================] - 5s 96us/sample - loss: 0.9835 - acc: 0.6693 - val_loss: 1.4670 - val_acc: 0.4883\n",
      "Epoch 25/50\n",
      "50000/50000 [==============================] - 5s 96us/sample - loss: 0.9633 - acc: 0.6754 - val_loss: 1.4591 - val_acc: 0.4966\n",
      "Epoch 26/50\n",
      "50000/50000 [==============================] - 5s 96us/sample - loss: 0.9418 - acc: 0.6839 - val_loss: 1.4801 - val_acc: 0.4953\n",
      "Epoch 27/50\n",
      "50000/50000 [==============================] - 5s 96us/sample - loss: 0.9219 - acc: 0.6917 - val_loss: 1.4886 - val_acc: 0.4891\n",
      "Epoch 28/50\n",
      "50000/50000 [==============================] - 5s 94us/sample - loss: 0.9028 - acc: 0.6982 - val_loss: 1.4732 - val_acc: 0.4977\n",
      "Epoch 29/50\n",
      "50000/50000 [==============================] - 5s 98us/sample - loss: 0.8835 - acc: 0.7057 - val_loss: 1.4768 - val_acc: 0.4987\n",
      "Epoch 30/50\n",
      "50000/50000 [==============================] - 5s 96us/sample - loss: 0.8639 - acc: 0.7144 - val_loss: 1.4675 - val_acc: 0.4993\n",
      "Epoch 31/50\n",
      "50000/50000 [==============================] - 5s 95us/sample - loss: 0.8431 - acc: 0.7237 - val_loss: 1.4711 - val_acc: 0.5010\n",
      "Epoch 32/50\n",
      "50000/50000 [==============================] - 5s 100us/sample - loss: 0.8252 - acc: 0.7282 - val_loss: 1.4875 - val_acc: 0.4989\n",
      "Epoch 33/50\n",
      "50000/50000 [==============================] - 5s 100us/sample - loss: 0.8054 - acc: 0.7373 - val_loss: 1.4948 - val_acc: 0.5000\n",
      "Epoch 34/50\n",
      "50000/50000 [==============================] - 5s 105us/sample - loss: 0.7878 - acc: 0.7431 - val_loss: 1.5212 - val_acc: 0.4954\n",
      "Epoch 35/50\n",
      "50000/50000 [==============================] - 6s 111us/sample - loss: 0.7685 - acc: 0.7508 - val_loss: 1.5126 - val_acc: 0.5033\n",
      "Epoch 36/50\n",
      "50000/50000 [==============================] - 5s 107us/sample - loss: 0.7502 - acc: 0.7596 - val_loss: 1.5129 - val_acc: 0.4975\n",
      "Epoch 37/50\n",
      "50000/50000 [==============================] - 6s 112us/sample - loss: 0.7309 - acc: 0.7659 - val_loss: 1.5246 - val_acc: 0.4972\n",
      "Epoch 38/50\n",
      "50000/50000 [==============================] - 5s 101us/sample - loss: 0.7136 - acc: 0.7732 - val_loss: 1.5539 - val_acc: 0.4856\n",
      "Epoch 39/50\n",
      "50000/50000 [==============================] - 5s 105us/sample - loss: 0.6954 - acc: 0.7818 - val_loss: 1.5320 - val_acc: 0.4966\n",
      "Epoch 40/50\n",
      "50000/50000 [==============================] - 5s 102us/sample - loss: 0.6782 - acc: 0.7876 - val_loss: 1.5412 - val_acc: 0.4993\n",
      "Epoch 41/50\n",
      "50000/50000 [==============================] - 5s 104us/sample - loss: 0.6604 - acc: 0.7948 - val_loss: 1.5463 - val_acc: 0.5013\n",
      "Epoch 42/50\n",
      "50000/50000 [==============================] - 5s 101us/sample - loss: 0.6398 - acc: 0.8044 - val_loss: 1.5742 - val_acc: 0.4980 0.6389 - acc: 0.8\n",
      "Epoch 43/50\n",
      "50000/50000 [==============================] - 6s 110us/sample - loss: 0.6229 - acc: 0.8092 - val_loss: 1.5737 - val_acc: 0.4923\n",
      "Epoch 44/50\n",
      "50000/50000 [==============================] - 5s 109us/sample - loss: 0.6043 - acc: 0.8176 - val_loss: 1.5851 - val_acc: 0.4961\n",
      "Epoch 45/50\n",
      "50000/50000 [==============================] - 5s 108us/sample - loss: 0.5893 - acc: 0.8241 - val_loss: 1.6079 - val_acc: 0.4882\n",
      "Epoch 46/50\n",
      "50000/50000 [==============================] - 5s 106us/sample - loss: 0.5715 - acc: 0.8321 - val_loss: 1.5969 - val_acc: 0.4960\n",
      "Epoch 47/50\n",
      "50000/50000 [==============================] - 5s 108us/sample - loss: 0.5552 - acc: 0.8372 - val_loss: 1.6398 - val_acc: 0.4903\n",
      "Epoch 48/50\n"
     ]
    },
    {
     "name": "stdout",
     "output_type": "stream",
     "text": [
      "50000/50000 [==============================] - 5s 110us/sample - loss: 0.5406 - acc: 0.8439 - val_loss: 1.6283 - val_acc: 0.4906\n",
      "Epoch 49/50\n",
      "50000/50000 [==============================] - 6s 111us/sample - loss: 0.5212 - acc: 0.8509 - val_loss: 1.6413 - val_acc: 0.4909\n",
      "Epoch 50/50\n",
      "50000/50000 [==============================] - 6s 113us/sample - loss: 0.5059 - acc: 0.8567 - val_loss: 1.6505 - val_acc: 0.4913\n"
     ]
    }
   ],
   "source": [
    "earlystop = EarlyStopping(monitor=\"val_acc\", \n",
    "                          patience=25, \n",
    "                          verbose=1\n",
    "                          )\n",
    "\n",
    "model = build_mlp(input_shape=x_train.shape[1:])\n",
    "model.summary()\n",
    "optimizer = tf.keras.optimizers.SGD(lr=LEARNING_RATE, nesterov=True, momentum=MOMENTUM)\n",
    "model.compile(loss=\"categorical_crossentropy\", metrics=[\"accuracy\"], optimizer=optimizer)\n",
    "\n",
    "model.fit(x_train, y_train, \n",
    "          epochs=EPOCHS, \n",
    "          batch_size=BATCH_SIZE, \n",
    "          validation_data=(x_test, y_test), \n",
    "          shuffle=True,\n",
    "          callbacks=[earlystop]\n",
    "         )\n",
    "\n",
    "# Collect results\n",
    "train_loss = model.history.history[\"loss\"]\n",
    "valid_loss = model.history.history[\"val_loss\"]\n",
    "train_acc = model.history.history[\"acc\"]\n",
    "valid_acc = model.history.history[\"val_acc\"]"
   ]
  },
  {
   "cell_type": "code",
   "execution_count": 11,
   "metadata": {},
   "outputs": [
    {
     "data": {
      "image/png": "[encoded data removed]",
      "text/plain": [
       "<Figure size 432x288 with 1 Axes>"
      ]
     },
     "metadata": {
      "needs_background": "light"
     },
     "output_type": "display_data"
    },
    {
     "data": {
      "image/png": "[encoded data removed]",
      "text/plain": [
       "<Figure size 432x288 with 1 Axes>"
      ]
     },
     "metadata": {
      "needs_background": "light"
     },
     "output_type": "display_data"
    }
   ],
   "source": [
    "plt.plot(range(len(train_loss)), train_loss, label=\"train loss\")\n",
    "plt.plot(range(len(valid_loss)), valid_loss, label=\"valid loss\")\n",
    "plt.legend()\n",
    "plt.title(\"Loss\")\n",
    "plt.show()\n",
    "\n",
    "plt.plot(range(len(train_acc)), train_acc, label=\"train accuracy\")\n",
    "plt.plot(range(len(valid_acc)), valid_acc, label=\"valid accuracy\")\n",
    "plt.legend()\n",
    "plt.title(\"Accuracy\")\n",
    "plt.show()"
   ]
  },
  {
   "cell_type": "code",
   "execution_count": null,
   "metadata": {},
   "outputs": [],
   "source": []
  }
 ],
 "metadata": {
  "kernelspec": {
   "display_name": "Python 3",
   "language": "python",
   "name": "python3"
  },
  "language_info": {
   "codemirror_mode": {
    "name": "ipython",
    "version": 3
   },
   "file_extension": ".py",
   "mimetype": "text/x-python",
   "name": "python",
   "nbconvert_exporter": "python",
   "pygments_lexer": "ipython3",
   "version": "3.7.1"
  }
 },
 "nbformat": 4,
 "nbformat_minor": 2
}
