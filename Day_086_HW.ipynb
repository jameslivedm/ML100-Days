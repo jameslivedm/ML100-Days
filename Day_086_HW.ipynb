{
 "cells": [
  {
   "cell_type": "markdown",
   "metadata": {},
   "source": [
    "## Work\n",
    "1. 試比較 save_best_only 與否的差異\n",
    "2. 請僅存入將 save_weights_only 設定為 True, 並嘗試 reset ipynb 並將模型與權重重新建回並預測 x_test"
   ]
  },
  {
   "cell_type": "code",
   "execution_count": 1,
   "metadata": {},
   "outputs": [],
   "source": [
    "import os\n",
    "import tensorflow as tf\n",
    "\n",
    "# Disable GPU\n",
    "os.environ[\"CUDA_VISIBLE_DEVICES\"] = \"\""
   ]
  },
  {
   "cell_type": "code",
   "execution_count": 3,
   "metadata": {},
   "outputs": [],
   "source": [
    "train, test = tf.keras.datasets.cifar10.load_data()"
   ]
  },
  {
   "cell_type": "code",
   "execution_count": 4,
   "metadata": {},
   "outputs": [],
   "source": [
    "## 資料前處理\n",
    "def preproc_x(x, flatten=True):\n",
    "    x = x / 255.\n",
    "    if flatten:\n",
    "        x = x.reshape((len(x), -1))\n",
    "    return x\n",
    "\n",
    "def preproc_y(y, num_classes=10):\n",
    "    if y.shape[-1] == 1:\n",
    "        y = tf.keras.utils.to_categorical(y, num_classes)\n",
    "    return y    "
   ]
  },
  {
   "cell_type": "code",
   "execution_count": 5,
   "metadata": {},
   "outputs": [],
   "source": [
    "x_train, y_train = train\n",
    "x_test, y_test = test\n",
    "\n",
    "# Preproc the inputs\n",
    "x_train = preproc_x(x_train)\n",
    "x_test = preproc_x(x_test)\n",
    "\n",
    "# Preprc the outputs\n",
    "y_train = preproc_y(y_train)\n",
    "y_test = preproc_y(y_test)"
   ]
  },
  {
   "cell_type": "code",
   "execution_count": 6,
   "metadata": {},
   "outputs": [],
   "source": [
    "from tensorflow.keras.layers import BatchNormalization\n",
    "def build_mlp(input_shape, output_units=10, num_neurons=[512, 256, 128]):\n",
    "    input_layer = tf.keras.layers.Input(input_shape)\n",
    "    \n",
    "    for i, n_units in enumerate(num_neurons):\n",
    "        if i == 0:\n",
    "            x = tf.keras.layers.Dense(units=n_units, \n",
    "                                   activation=\"relu\", \n",
    "                                   name=\"hidden_layer\"+str(i+1))(input_layer)\n",
    "            x = BatchNormalization()(x)\n",
    "        else:\n",
    "            x = tf.keras.layers.Dense(units=n_units, \n",
    "                                   activation=\"relu\", \n",
    "                                   name=\"hidden_layer\"+str(i+1))(x)\n",
    "            x = BatchNormalization()(x)\n",
    "    \n",
    "    out = tf.keras.layers.Dense(units=output_units, activation=\"softmax\", name=\"output\")(x)\n",
    "    \n",
    "    model = tf.keras.models.Model(inputs=[input_layer], outputs=[out])\n",
    "    return model"
   ]
  },
  {
   "cell_type": "code",
   "execution_count": 7,
   "metadata": {},
   "outputs": [],
   "source": [
    "## 超參數設定\n",
    "LEARNING_RATE = 1e-3\n",
    "EPOCHS = 50\n",
    "BATCH_SIZE = 1024\n",
    "MOMENTUM = 0.95"
   ]
  },
  {
   "cell_type": "code",
   "execution_count": 8,
   "metadata": {},
   "outputs": [],
   "source": [
    "# 載入 Callbacks\n",
    "from tensorflow.keras.callbacks import ModelCheckpoint\n",
    "model_ckpt = ModelCheckpoint(filepath=r\"D:\\James\\Data scienctist career\\機器學習百日馬拉松\\作業資料\\tmp.h5\", \n",
    "                             monitor=\"val_loss\", \n",
    "                             save_best_only=False)"
   ]
  },
  {
   "cell_type": "code",
   "execution_count": 9,
   "metadata": {
    "scrolled": true
   },
   "outputs": [
    {
     "name": "stdout",
     "output_type": "stream",
     "text": [
      "WARNING:tensorflow:From D:\\Anaconda3\\lib\\site-packages\\tensorflow\\python\\ops\\resource_variable_ops.py:435: colocate_with (from tensorflow.python.framework.ops) is deprecated and will be removed in a future version.\n",
      "Instructions for updating:\n",
      "Colocations handled automatically by placer.\n",
      "_________________________________________________________________\n",
      "Layer (type)                 Output Shape              Param #   \n",
      "=================================================================\n",
      "input_1 (InputLayer)         (None, 3072)              0         \n",
      "_________________________________________________________________\n",
      "hidden_layer1 (Dense)        (None, 512)               1573376   \n",
      "_________________________________________________________________\n",
      "batch_normalization_v1 (Batc (None, 512)               2048      \n",
      "_________________________________________________________________\n",
      "hidden_layer2 (Dense)        (None, 256)               131328    \n",
      "_________________________________________________________________\n",
      "batch_normalization_v1_1 (Ba (None, 256)               1024      \n",
      "_________________________________________________________________\n",
      "hidden_layer3 (Dense)        (None, 128)               32896     \n",
      "_________________________________________________________________\n",
      "batch_normalization_v1_2 (Ba (None, 128)               512       \n",
      "_________________________________________________________________\n",
      "output (Dense)               (None, 10)                1290      \n",
      "=================================================================\n",
      "Total params: 1,742,474\n",
      "Trainable params: 1,740,682\n",
      "Non-trainable params: 1,792\n",
      "_________________________________________________________________\n",
      "Train on 50000 samples, validate on 10000 samples\n",
      "WARNING:tensorflow:From D:\\Anaconda3\\lib\\site-packages\\tensorflow\\python\\ops\\math_ops.py:3066: to_int32 (from tensorflow.python.ops.math_ops) is deprecated and will be removed in a future version.\n",
      "Instructions for updating:\n",
      "Use tf.cast instead.\n",
      "Epoch 1/50\n",
      "50000/50000 [==============================] - 7s 141us/sample - loss: 2.2062 - acc: 0.2682 - val_loss: 2.1402 - val_acc: 0.2292\n",
      "Epoch 2/50\n",
      "50000/50000 [==============================] - 5s 101us/sample - loss: 1.7502 - acc: 0.3900 - val_loss: 1.9504 - val_acc: 0.3141\n",
      "Epoch 3/50\n",
      "50000/50000 [==============================] - 5s 101us/sample - loss: 1.6261 - acc: 0.4315 - val_loss: 1.8088 - val_acc: 0.3717\n",
      "Epoch 4/50\n",
      "50000/50000 [==============================] - 5s 100us/sample - loss: 1.5504 - acc: 0.4565 - val_loss: 1.7048 - val_acc: 0.4132\n",
      "Epoch 5/50\n",
      "50000/50000 [==============================] - 5s 100us/sample - loss: 1.4922 - acc: 0.4780 - val_loss: 1.6482 - val_acc: 0.4267\n",
      "Epoch 6/50\n",
      "50000/50000 [==============================] - 5s 105us/sample - loss: 1.4487 - acc: 0.4944 - val_loss: 1.5989 - val_acc: 0.4455\n",
      "Epoch 7/50\n",
      "50000/50000 [==============================] - 5s 108us/sample - loss: 1.4077 - acc: 0.5093 - val_loss: 1.5584 - val_acc: 0.4536\n",
      "Epoch 8/50\n",
      "50000/50000 [==============================] - 5s 102us/sample - loss: 1.3723 - acc: 0.5219 - val_loss: 1.5422 - val_acc: 0.4514\n",
      "Epoch 9/50\n",
      "50000/50000 [==============================] - 5s 99us/sample - loss: 1.3384 - acc: 0.5336 - val_loss: 1.5166 - val_acc: 0.4645\n",
      "Epoch 10/50\n",
      "50000/50000 [==============================] - 5s 97us/sample - loss: 1.3076 - acc: 0.5464 - val_loss: 1.5079 - val_acc: 0.4697\n",
      "Epoch 11/50\n",
      "50000/50000 [==============================] - 5s 98us/sample - loss: 1.2808 - acc: 0.5540 - val_loss: 1.4908 - val_acc: 0.4726\n",
      "Epoch 12/50\n",
      "50000/50000 [==============================] - 5s 100us/sample - loss: 1.2535 - acc: 0.5644 - val_loss: 1.4929 - val_acc: 0.4710\n",
      "Epoch 13/50\n",
      "50000/50000 [==============================] - 5s 104us/sample - loss: 1.2275 - acc: 0.5748 - val_loss: 1.4816 - val_acc: 0.4801\n",
      "Epoch 14/50\n",
      "50000/50000 [==============================] - 5s 98us/sample - loss: 1.2007 - acc: 0.5850 - val_loss: 1.4848 - val_acc: 0.4786\n",
      "Epoch 15/50\n",
      "50000/50000 [==============================] - 5s 98us/sample - loss: 1.1749 - acc: 0.5957 - val_loss: 1.4746 - val_acc: 0.4840\n",
      "Epoch 16/50\n",
      "50000/50000 [==============================] - 5s 98us/sample - loss: 1.1536 - acc: 0.6045 - val_loss: 1.4729 - val_acc: 0.4829\n",
      "Epoch 17/50\n",
      "50000/50000 [==============================] - 5s 100us/sample - loss: 1.1297 - acc: 0.6107 - val_loss: 1.4619 - val_acc: 0.4856\n",
      "Epoch 18/50\n",
      "50000/50000 [==============================] - 5s 97us/sample - loss: 1.1069 - acc: 0.6218 - val_loss: 1.4682 - val_acc: 0.4846\n",
      "Epoch 19/50\n",
      "50000/50000 [==============================] - 5s 98us/sample - loss: 1.0855 - acc: 0.6307 - val_loss: 1.4743 - val_acc: 0.4842\n",
      "Epoch 20/50\n",
      "50000/50000 [==============================] - 5s 100us/sample - loss: 1.0638 - acc: 0.6380 - val_loss: 1.4685 - val_acc: 0.4858\n",
      "Epoch 21/50\n",
      "50000/50000 [==============================] - 5s 97us/sample - loss: 1.0412 - acc: 0.6462 - val_loss: 1.4684 - val_acc: 0.4900\n",
      "Epoch 22/50\n",
      "50000/50000 [==============================] - 5s 99us/sample - loss: 1.0217 - acc: 0.6549 - val_loss: 1.4814 - val_acc: 0.4821\n",
      "Epoch 23/50\n",
      "50000/50000 [==============================] - 5s 98us/sample - loss: 1.0004 - acc: 0.6617 - val_loss: 1.4823 - val_acc: 0.4867\n",
      "Epoch 24/50\n",
      "50000/50000 [==============================] - 5s 99us/sample - loss: 0.9783 - acc: 0.6704 - val_loss: 1.4750 - val_acc: 0.4885\n",
      "Epoch 25/50\n",
      "50000/50000 [==============================] - 5s 98us/sample - loss: 0.9576 - acc: 0.6794 - val_loss: 1.4789 - val_acc: 0.4846\n",
      "Epoch 26/50\n",
      "50000/50000 [==============================] - 5s 98us/sample - loss: 0.9358 - acc: 0.6877 - val_loss: 1.4835 - val_acc: 0.4891\n",
      "Epoch 27/50\n",
      "50000/50000 [==============================] - 5s 99us/sample - loss: 0.9165 - acc: 0.6950 - val_loss: 1.4994 - val_acc: 0.4884\n",
      "Epoch 28/50\n",
      "50000/50000 [==============================] - 5s 99us/sample - loss: 0.8998 - acc: 0.7008 - val_loss: 1.4928 - val_acc: 0.4878\n",
      "Epoch 29/50\n",
      "50000/50000 [==============================] - 5s 105us/sample - loss: 0.8750 - acc: 0.7106 - val_loss: 1.4982 - val_acc: 0.4914\n",
      "Epoch 30/50\n",
      "50000/50000 [==============================] - 5s 100us/sample - loss: 0.8564 - acc: 0.7174 - val_loss: 1.5097 - val_acc: 0.4875\n",
      "Epoch 31/50\n",
      "50000/50000 [==============================] - 5s 99us/sample - loss: 0.8351 - acc: 0.7270 - val_loss: 1.5060 - val_acc: 0.4870\n",
      "Epoch 32/50\n",
      "50000/50000 [==============================] - 5s 97us/sample - loss: 0.8153 - acc: 0.7338 - val_loss: 1.5182 - val_acc: 0.4906\n",
      "Epoch 33/50\n",
      "50000/50000 [==============================] - 5s 109us/sample - loss: 0.7957 - acc: 0.7423 - val_loss: 1.5201 - val_acc: 0.4870\n",
      "Epoch 34/50\n",
      "50000/50000 [==============================] - 5s 100us/sample - loss: 0.7766 - acc: 0.7505 - val_loss: 1.5344 - val_acc: 0.4847\n",
      "Epoch 35/50\n",
      "50000/50000 [==============================] - 5s 106us/sample - loss: 0.7579 - acc: 0.7572 - val_loss: 1.5458 - val_acc: 0.4861\n",
      "Epoch 36/50\n",
      "50000/50000 [==============================] - 5s 107us/sample - loss: 0.7378 - acc: 0.7656 - val_loss: 1.5568 - val_acc: 0.4883\n",
      "Epoch 37/50\n",
      "50000/50000 [==============================] - 5s 98us/sample - loss: 0.7169 - acc: 0.7731 - val_loss: 1.5578 - val_acc: 0.4908\n",
      "Epoch 38/50\n",
      "50000/50000 [==============================] - 5s 99us/sample - loss: 0.6991 - acc: 0.7810 - val_loss: 1.5718 - val_acc: 0.4914\n",
      "Epoch 39/50\n",
      "50000/50000 [==============================] - 5s 99us/sample - loss: 0.6777 - acc: 0.7893 - val_loss: 1.5930 - val_acc: 0.4808\n",
      "Epoch 40/50\n",
      "50000/50000 [==============================] - 5s 98us/sample - loss: 0.6620 - acc: 0.7946 - val_loss: 1.6016 - val_acc: 0.4832\n",
      "Epoch 41/50\n",
      "50000/50000 [==============================] - 5s 98us/sample - loss: 0.6408 - acc: 0.8040 - val_loss: 1.5979 - val_acc: 0.4865\n",
      "Epoch 42/50\n",
      "50000/50000 [==============================] - 5s 98us/sample - loss: 0.6246 - acc: 0.8103 - val_loss: 1.6169 - val_acc: 0.4821\n",
      "Epoch 43/50\n",
      "50000/50000 [==============================] - 5s 99us/sample - loss: 0.6059 - acc: 0.8188 - val_loss: 1.6318 - val_acc: 0.4825\n",
      "Epoch 44/50\n",
      "50000/50000 [==============================] - 5s 99us/sample - loss: 0.5879 - acc: 0.8262 - val_loss: 1.6317 - val_acc: 0.4829\n",
      "Epoch 45/50\n"
     ]
    },
    {
     "name": "stdout",
     "output_type": "stream",
     "text": [
      "50000/50000 [==============================] - 5s 99us/sample - loss: 0.5688 - acc: 0.8327 - val_loss: 1.6558 - val_acc: 0.4830\n",
      "Epoch 46/50\n",
      "50000/50000 [==============================] - 5s 97us/sample - loss: 0.5514 - acc: 0.8409 - val_loss: 1.6586 - val_acc: 0.4857\n",
      "Epoch 47/50\n",
      "50000/50000 [==============================] - 5s 108us/sample - loss: 0.5333 - acc: 0.8470 - val_loss: 1.6837 - val_acc: 0.4820\n",
      "Epoch 48/50\n",
      "50000/50000 [==============================] - 5s 96us/sample - loss: 0.5173 - acc: 0.8527 - val_loss: 1.6917 - val_acc: 0.4798\n",
      "Epoch 49/50\n",
      "50000/50000 [==============================] - 5s 107us/sample - loss: 0.5005 - acc: 0.8598 - val_loss: 1.7155 - val_acc: 0.4856\n",
      "Epoch 50/50\n",
      "50000/50000 [==============================] - 5s 97us/sample - loss: 0.4853 - acc: 0.8651 - val_loss: 1.7365 - val_acc: 0.4829\n",
      "10000/10000 [==============================] - 1s 97us/sample - loss: 1.7365 - acc: 0.4829\n"
     ]
    }
   ],
   "source": [
    "model = build_mlp(input_shape=x_train.shape[1:])\n",
    "model.summary()\n",
    "optimizer = tf.keras.optimizers.SGD(lr=LEARNING_RATE, nesterov=True, momentum=MOMENTUM)\n",
    "model.compile(loss=\"categorical_crossentropy\", metrics=[\"accuracy\"], optimizer=optimizer)\n",
    "\n",
    "model.fit(x_train, y_train, \n",
    "          epochs=EPOCHS, \n",
    "          batch_size=BATCH_SIZE, \n",
    "          validation_data=(x_test, y_test), \n",
    "          shuffle=True,\n",
    "          callbacks=[model_ckpt]\n",
    "         )\n",
    "\n",
    "# Collect results\n",
    "train_loss = model.history.history[\"loss\"]\n",
    "valid_loss = model.history.history[\"val_loss\"]\n",
    "train_acc = model.history.history[\"acc\"]\n",
    "valid_acc = model.history.history[\"val_acc\"]\n",
    "\n",
    "# Load back\n",
    "model = tf.keras.models.load_model(r\"D:\\James\\Data scienctist career\\機器學習百日馬拉松\\作業資料\\tmp.h5\")\n",
    "loss_loadback, acc_loadback = model.evaluate(x_test, y_test)"
   ]
  },
  {
   "cell_type": "code",
   "execution_count": 10,
   "metadata": {},
   "outputs": [
    {
     "data": {
      "image/png": "[encoded data removed]",
      "text/plain": [
       "<Figure size 432x288 with 1 Axes>"
      ]
     },
     "metadata": {
      "needs_background": "light"
     },
     "output_type": "display_data"
    },
    {
     "data": {
      "image/png": "[encoded data removed]",
      "text/plain": [
       "<Figure size 432x288 with 1 Axes>"
      ]
     },
     "metadata": {
      "needs_background": "light"
     },
     "output_type": "display_data"
    }
   ],
   "source": [
    "import matplotlib.pyplot as plt\n",
    "%matplotlib inline\n",
    "\n",
    "plt.plot(range(len(train_loss)), train_loss, label=\"train loss\")\n",
    "plt.plot(range(len(valid_loss)), valid_loss, label=\"valid loss\")\n",
    "plt.hlines(y=loss_loadback, xmin=0, xmax=len(train_loss), colors='r', linestyles='--')\n",
    "plt.legend()\n",
    "plt.title(\"Loss\")\n",
    "plt.show()\n",
    "\n",
    "plt.plot(range(len(train_acc)), train_acc, label=\"train accuracy\")\n",
    "plt.plot(range(len(valid_acc)), valid_acc, label=\"valid accuracy\")\n",
    "plt.hlines(y=acc_loadback, xmin=0, xmax=len(train_loss), colors='r', linestyles='--')\n",
    "plt.legend()\n",
    "plt.title(\"Accuracy\")\n",
    "plt.show()"
   ]
  },
  {
   "cell_type": "code",
   "execution_count": 11,
   "metadata": {},
   "outputs": [],
   "source": [
    "model_ckpt = ModelCheckpoint(filepath=r\"D:\\James\\Data scienctist career\\機器學習百日馬拉松\\作業資料\\tmp.h5\", \n",
    "                             monitor=\"val_loss\", \n",
    "                             save_best_only=False, save_weights_only=True)"
   ]
  },
  {
   "cell_type": "code",
   "execution_count": 12,
   "metadata": {
    "scrolled": true
   },
   "outputs": [
    {
     "name": "stdout",
     "output_type": "stream",
     "text": [
      "_________________________________________________________________\n",
      "Layer (type)                 Output Shape              Param #   \n",
      "=================================================================\n",
      "input_2 (InputLayer)         (None, 3072)              0         \n",
      "_________________________________________________________________\n",
      "hidden_layer1 (Dense)        (None, 512)               1573376   \n",
      "_________________________________________________________________\n",
      "batch_normalization_v1_3 (Ba (None, 512)               2048      \n",
      "_________________________________________________________________\n",
      "hidden_layer2 (Dense)        (None, 256)               131328    \n",
      "_________________________________________________________________\n",
      "batch_normalization_v1_4 (Ba (None, 256)               1024      \n",
      "_________________________________________________________________\n",
      "hidden_layer3 (Dense)        (None, 128)               32896     \n",
      "_________________________________________________________________\n",
      "batch_normalization_v1_5 (Ba (None, 128)               512       \n",
      "_________________________________________________________________\n",
      "output (Dense)               (None, 10)                1290      \n",
      "=================================================================\n",
      "Total params: 1,742,474\n",
      "Trainable params: 1,740,682\n",
      "Non-trainable params: 1,792\n",
      "_________________________________________________________________\n",
      "Train on 50000 samples, validate on 10000 samples\n",
      "Epoch 1/50\n",
      "50000/50000 [==============================] - 6s 129us/sample - loss: 2.2267 - acc: 0.2687 - val_loss: 2.1323 - val_acc: 0.2293\n",
      "Epoch 2/50\n",
      "50000/50000 [==============================] - 6s 114us/sample - loss: 1.7409 - acc: 0.3962 - val_loss: 1.9700 - val_acc: 0.3079\n",
      "Epoch 3/50\n",
      "50000/50000 [==============================] - 5s 107us/sample - loss: 1.6157 - acc: 0.4369 - val_loss: 1.8431 - val_acc: 0.3538\n",
      "Epoch 4/50\n",
      "50000/50000 [==============================] - 6s 112us/sample - loss: 1.5458 - acc: 0.4606 - val_loss: 1.7420 - val_acc: 0.3890\n",
      "Epoch 5/50\n",
      "50000/50000 [==============================] - 5s 105us/sample - loss: 1.4935 - acc: 0.4800 - val_loss: 1.6503 - val_acc: 0.4186\n",
      "Epoch 6/50\n",
      "50000/50000 [==============================] - 5s 103us/sample - loss: 1.4493 - acc: 0.4955 - val_loss: 1.5931 - val_acc: 0.4406\n",
      "Epoch 7/50\n",
      "50000/50000 [==============================] - 5s 97us/sample - loss: 1.4107 - acc: 0.5095 - val_loss: 1.5465 - val_acc: 0.4556\n",
      "Epoch 8/50\n",
      "50000/50000 [==============================] - 5s 99us/sample - loss: 1.3757 - acc: 0.5216 - val_loss: 1.5157 - val_acc: 0.4703\n",
      "Epoch 9/50\n",
      "50000/50000 [==============================] - 5s 98us/sample - loss: 1.3457 - acc: 0.5336 - val_loss: 1.4993 - val_acc: 0.4724\n",
      "Epoch 10/50\n",
      "50000/50000 [==============================] - 5s 97us/sample - loss: 1.3164 - acc: 0.5457 - val_loss: 1.4876 - val_acc: 0.4725\n",
      "Epoch 11/50\n",
      "50000/50000 [==============================] - 5s 100us/sample - loss: 1.2903 - acc: 0.5553 - val_loss: 1.4843 - val_acc: 0.4772\n",
      "Epoch 12/50\n",
      "50000/50000 [==============================] - 5s 98us/sample - loss: 1.2631 - acc: 0.5655 - val_loss: 1.4826 - val_acc: 0.4812\n",
      "Epoch 13/50\n",
      "50000/50000 [==============================] - 5s 99us/sample - loss: 1.2390 - acc: 0.5734 - val_loss: 1.4677 - val_acc: 0.4833\n",
      "Epoch 14/50\n",
      "50000/50000 [==============================] - 5s 101us/sample - loss: 1.2151 - acc: 0.5835 - val_loss: 1.4697 - val_acc: 0.4767\n",
      "Epoch 15/50\n",
      "50000/50000 [==============================] - 5s 98us/sample - loss: 1.1918 - acc: 0.5901 - val_loss: 1.4597 - val_acc: 0.4817\n",
      "Epoch 16/50\n",
      "50000/50000 [==============================] - 5s 97us/sample - loss: 1.1671 - acc: 0.5978 - val_loss: 1.4428 - val_acc: 0.4904\n",
      "Epoch 17/50\n",
      "50000/50000 [==============================] - 5s 97us/sample - loss: 1.1473 - acc: 0.6069 - val_loss: 1.4575 - val_acc: 0.4886\n",
      "Epoch 18/50\n",
      "50000/50000 [==============================] - 5s 97us/sample - loss: 1.1245 - acc: 0.6161 - val_loss: 1.4501 - val_acc: 0.4851\n",
      "Epoch 19/50\n",
      "50000/50000 [==============================] - 5s 99us/sample - loss: 1.1010 - acc: 0.6231 - val_loss: 1.4478 - val_acc: 0.4945\n",
      "Epoch 20/50\n",
      "50000/50000 [==============================] - 5s 98us/sample - loss: 1.0802 - acc: 0.6330 - val_loss: 1.4513 - val_acc: 0.4908\n",
      "Epoch 21/50\n",
      "50000/50000 [==============================] - 5s 99us/sample - loss: 1.0595 - acc: 0.6382 - val_loss: 1.4424 - val_acc: 0.4957\n",
      "Epoch 22/50\n",
      "50000/50000 [==============================] - 5s 98us/sample - loss: 1.0382 - acc: 0.6480 - val_loss: 1.4524 - val_acc: 0.4869\n",
      "Epoch 23/50\n",
      "50000/50000 [==============================] - 5s 97us/sample - loss: 1.0174 - acc: 0.6562 - val_loss: 1.4490 - val_acc: 0.4943\n",
      "Epoch 24/50\n",
      "50000/50000 [==============================] - 5s 98us/sample - loss: 0.9992 - acc: 0.6612 - val_loss: 1.4584 - val_acc: 0.4931\n",
      "Epoch 25/50\n",
      "50000/50000 [==============================] - 5s 98us/sample - loss: 0.9766 - acc: 0.6698 - val_loss: 1.4434 - val_acc: 0.5018\n",
      "Epoch 26/50\n",
      "50000/50000 [==============================] - 5s 98us/sample - loss: 0.9587 - acc: 0.6770 - val_loss: 1.4510 - val_acc: 0.4936\n",
      "Epoch 27/50\n",
      "50000/50000 [==============================] - 5s 98us/sample - loss: 0.9377 - acc: 0.6860 - val_loss: 1.4594 - val_acc: 0.4911\n",
      "Epoch 28/50\n",
      "50000/50000 [==============================] - 5s 98us/sample - loss: 0.9187 - acc: 0.6926 - val_loss: 1.4600 - val_acc: 0.4968\n",
      "Epoch 29/50\n",
      "50000/50000 [==============================] - 5s 99us/sample - loss: 0.8994 - acc: 0.7016 - val_loss: 1.4603 - val_acc: 0.4975\n",
      "Epoch 30/50\n",
      "50000/50000 [==============================] - 5s 96us/sample - loss: 0.8793 - acc: 0.7080 - val_loss: 1.4786 - val_acc: 0.4954\n",
      "Epoch 31/50\n",
      "50000/50000 [==============================] - 5s 99us/sample - loss: 0.8614 - acc: 0.7151 - val_loss: 1.4770 - val_acc: 0.4963\n",
      "Epoch 32/50\n",
      "50000/50000 [==============================] - 5s 97us/sample - loss: 0.8421 - acc: 0.7243 - val_loss: 1.4807 - val_acc: 0.5014\n",
      "Epoch 33/50\n",
      "50000/50000 [==============================] - 5s 99us/sample - loss: 0.8218 - acc: 0.7309 - val_loss: 1.4825 - val_acc: 0.4931\n",
      "Epoch 34/50\n",
      "50000/50000 [==============================] - 5s 103us/sample - loss: 0.8034 - acc: 0.7388 - val_loss: 1.5139 - val_acc: 0.4905\n",
      "Epoch 35/50\n",
      "50000/50000 [==============================] - 5s 106us/sample - loss: 0.7830 - acc: 0.7473 - val_loss: 1.4900 - val_acc: 0.4953\n",
      "Epoch 36/50\n",
      "50000/50000 [==============================] - 5s 103us/sample - loss: 0.7644 - acc: 0.7545 - val_loss: 1.4993 - val_acc: 0.4997\n",
      "Epoch 37/50\n",
      "50000/50000 [==============================] - 5s 106us/sample - loss: 0.7461 - acc: 0.7607 - val_loss: 1.5066 - val_acc: 0.4934\n",
      "Epoch 38/50\n",
      "50000/50000 [==============================] - 5s 107us/sample - loss: 0.7288 - acc: 0.7677 - val_loss: 1.5126 - val_acc: 0.4911\n",
      "Epoch 39/50\n",
      "50000/50000 [==============================] - 5s 108us/sample - loss: 0.7086 - acc: 0.7768 - val_loss: 1.5354 - val_acc: 0.4890\n",
      "Epoch 40/50\n",
      "50000/50000 [==============================] - 5s 106us/sample - loss: 0.6931 - acc: 0.7817 - val_loss: 1.5406 - val_acc: 0.4909\n",
      "Epoch 41/50\n",
      "50000/50000 [==============================] - 5s 102us/sample - loss: 0.6734 - acc: 0.7915 - val_loss: 1.5422 - val_acc: 0.4959\n",
      "Epoch 42/50\n",
      "50000/50000 [==============================] - 5s 100us/sample - loss: 0.6570 - acc: 0.7963 - val_loss: 1.5458 - val_acc: 0.4914.796\n",
      "Epoch 43/50\n",
      "50000/50000 [==============================] - 5s 103us/sample - loss: 0.6384 - acc: 0.8046 - val_loss: 1.5532 - val_acc: 0.49020.6373 - acc: \n",
      "Epoch 44/50\n",
      "50000/50000 [==============================] - 5s 98us/sample - loss: 0.6195 - acc: 0.8134 - val_loss: 1.5673 - val_acc: 0.4911\n",
      "Epoch 45/50\n",
      "50000/50000 [==============================] - 5s 100us/sample - loss: 0.6020 - acc: 0.8189 - val_loss: 1.5925 - val_acc: 0.4855\n",
      "Epoch 46/50\n",
      "50000/50000 [==============================] - 5s 96us/sample - loss: 0.5853 - acc: 0.8266 - val_loss: 1.5969 - val_acc: 0.4869\n",
      "Epoch 47/50\n",
      "50000/50000 [==============================] - 5s 99us/sample - loss: 0.5675 - acc: 0.8322 - val_loss: 1.5975 - val_acc: 0.4909\n",
      "Epoch 48/50\n",
      "50000/50000 [==============================] - 5s 96us/sample - loss: 0.5511 - acc: 0.8397 - val_loss: 1.6152 - val_acc: 0.4858\n"
     ]
    },
    {
     "name": "stdout",
     "output_type": "stream",
     "text": [
      "Epoch 49/50\n",
      "50000/50000 [==============================] - 5s 96us/sample - loss: 0.5359 - acc: 0.8454 - val_loss: 1.6243 - val_acc: 0.4880\n",
      "Epoch 50/50\n",
      "50000/50000 [==============================] - 5s 99us/sample - loss: 0.5186 - acc: 0.8525 - val_loss: 1.6204 - val_acc: 0.4844\n"
     ]
    },
    {
     "ename": "ValueError",
     "evalue": "No model found in config file.",
     "output_type": "error",
     "traceback": [
      "\u001b[1;31m---------------------------------------------------------------------------\u001b[0m",
      "\u001b[1;31mValueError\u001b[0m                                Traceback (most recent call last)",
      "\u001b[1;32m<ipython-input-12-8469a63de194>\u001b[0m in \u001b[0;36m<module>\u001b[1;34m\u001b[0m\n\u001b[0;32m     19\u001b[0m \u001b[1;33m\u001b[0m\u001b[0m\n\u001b[0;32m     20\u001b[0m \u001b[1;31m# Load back\u001b[0m\u001b[1;33m\u001b[0m\u001b[1;33m\u001b[0m\u001b[1;33m\u001b[0m\u001b[0m\n\u001b[1;32m---> 21\u001b[1;33m \u001b[0mmodel\u001b[0m \u001b[1;33m=\u001b[0m \u001b[0mtf\u001b[0m\u001b[1;33m.\u001b[0m\u001b[0mkeras\u001b[0m\u001b[1;33m.\u001b[0m\u001b[0mmodels\u001b[0m\u001b[1;33m.\u001b[0m\u001b[0mload_model\u001b[0m\u001b[1;33m(\u001b[0m\u001b[1;34mr\"D:\\James\\Data scienctist career\\機器學習百日馬拉松\\作業資料\\tmp.h5\"\u001b[0m\u001b[1;33m)\u001b[0m\u001b[1;33m\u001b[0m\u001b[1;33m\u001b[0m\u001b[0m\n\u001b[0m\u001b[0;32m     22\u001b[0m \u001b[0mloss_loadback\u001b[0m\u001b[1;33m,\u001b[0m \u001b[0macc_loadback\u001b[0m \u001b[1;33m=\u001b[0m \u001b[0mmodel\u001b[0m\u001b[1;33m.\u001b[0m\u001b[0mevaluate\u001b[0m\u001b[1;33m(\u001b[0m\u001b[0mx_test\u001b[0m\u001b[1;33m,\u001b[0m \u001b[0my_test\u001b[0m\u001b[1;33m)\u001b[0m\u001b[1;33m\u001b[0m\u001b[1;33m\u001b[0m\u001b[0m\n",
      "\u001b[1;32mD:\\Anaconda3\\lib\\site-packages\\tensorflow\\python\\keras\\engine\\saving.py\u001b[0m in \u001b[0;36mload_model\u001b[1;34m(filepath, custom_objects, compile)\u001b[0m\n\u001b[0;32m    230\u001b[0m     \u001b[0mmodel_config\u001b[0m \u001b[1;33m=\u001b[0m \u001b[0mf\u001b[0m\u001b[1;33m.\u001b[0m\u001b[0mattrs\u001b[0m\u001b[1;33m.\u001b[0m\u001b[0mget\u001b[0m\u001b[1;33m(\u001b[0m\u001b[1;34m'model_config'\u001b[0m\u001b[1;33m)\u001b[0m\u001b[1;33m\u001b[0m\u001b[1;33m\u001b[0m\u001b[0m\n\u001b[0;32m    231\u001b[0m     \u001b[1;32mif\u001b[0m \u001b[0mmodel_config\u001b[0m \u001b[1;32mis\u001b[0m \u001b[1;32mNone\u001b[0m\u001b[1;33m:\u001b[0m\u001b[1;33m\u001b[0m\u001b[1;33m\u001b[0m\u001b[0m\n\u001b[1;32m--> 232\u001b[1;33m       \u001b[1;32mraise\u001b[0m \u001b[0mValueError\u001b[0m\u001b[1;33m(\u001b[0m\u001b[1;34m'No model found in config file.'\u001b[0m\u001b[1;33m)\u001b[0m\u001b[1;33m\u001b[0m\u001b[1;33m\u001b[0m\u001b[0m\n\u001b[0m\u001b[0;32m    233\u001b[0m     \u001b[0mmodel_config\u001b[0m \u001b[1;33m=\u001b[0m \u001b[0mjson\u001b[0m\u001b[1;33m.\u001b[0m\u001b[0mloads\u001b[0m\u001b[1;33m(\u001b[0m\u001b[0mmodel_config\u001b[0m\u001b[1;33m.\u001b[0m\u001b[0mdecode\u001b[0m\u001b[1;33m(\u001b[0m\u001b[1;34m'utf-8'\u001b[0m\u001b[1;33m)\u001b[0m\u001b[1;33m)\u001b[0m\u001b[1;33m\u001b[0m\u001b[1;33m\u001b[0m\u001b[0m\n\u001b[0;32m    234\u001b[0m     \u001b[0mmodel\u001b[0m \u001b[1;33m=\u001b[0m \u001b[0mmodel_from_config\u001b[0m\u001b[1;33m(\u001b[0m\u001b[0mmodel_config\u001b[0m\u001b[1;33m,\u001b[0m \u001b[0mcustom_objects\u001b[0m\u001b[1;33m=\u001b[0m\u001b[0mcustom_objects\u001b[0m\u001b[1;33m)\u001b[0m\u001b[1;33m\u001b[0m\u001b[1;33m\u001b[0m\u001b[0m\n",
      "\u001b[1;31mValueError\u001b[0m: No model found in config file."
     ]
    }
   ],
   "source": [
    "model = build_mlp(input_shape=x_train.shape[1:])\n",
    "model.summary()\n",
    "optimizer = tf.keras.optimizers.SGD(lr=LEARNING_RATE, nesterov=True, momentum=MOMENTUM)\n",
    "model.compile(loss=\"categorical_crossentropy\", metrics=[\"accuracy\"], optimizer=optimizer)\n",
    "\n",
    "model.fit(x_train, y_train, \n",
    "          epochs=EPOCHS, \n",
    "          batch_size=BATCH_SIZE, \n",
    "          validation_data=(x_test, y_test), \n",
    "          shuffle=True,\n",
    "          callbacks=[model_ckpt]\n",
    "         )\n",
    "\n",
    "# Collect results\n",
    "train_loss = model.history.history[\"loss\"]\n",
    "valid_loss = model.history.history[\"val_loss\"]\n",
    "train_acc = model.history.history[\"acc\"]\n",
    "valid_acc = model.history.history[\"val_acc\"]\n",
    "\n",
    "# Load back\n",
    "model = tf.keras.models.load_model(r\"D:\\James\\Data scienctist career\\機器學習百日馬拉松\\作業資料\\tmp.h5\")\n",
    "loss_loadback, acc_loadback = model.evaluate(x_test, y_test)"
   ]
  },
  {
   "cell_type": "code",
   "execution_count": 13,
   "metadata": {},
   "outputs": [
    {
     "data": {
      "image/png": "[encoded data removed]",
      "text/plain": [
       "<Figure size 432x288 with 1 Axes>"
      ]
     },
     "metadata": {
      "needs_background": "light"
     },
     "output_type": "display_data"
    },
    {
     "data": {
      "image/png": "[encoded data removed]",
      "text/plain": [
       "<Figure size 432x288 with 1 Axes>"
      ]
     },
     "metadata": {
      "needs_background": "light"
     },
     "output_type": "display_data"
    }
   ],
   "source": [
    "import matplotlib.pyplot as plt\n",
    "%matplotlib inline\n",
    "\n",
    "plt.plot(range(len(train_loss)), train_loss, label=\"train loss\")\n",
    "plt.plot(range(len(valid_loss)), valid_loss, label=\"valid loss\")\n",
    "plt.hlines(y=loss_loadback, xmin=0, xmax=len(train_loss), colors='r', linestyles='--')\n",
    "plt.legend()\n",
    "plt.title(\"Loss\")\n",
    "plt.show()\n",
    "\n",
    "plt.plot(range(len(train_acc)), train_acc, label=\"train accuracy\")\n",
    "plt.plot(range(len(valid_acc)), valid_acc, label=\"valid accuracy\")\n",
    "plt.hlines(y=acc_loadback, xmin=0, xmax=len(train_loss), colors='r', linestyles='--')\n",
    "plt.legend()\n",
    "plt.title(\"Accuracy\")\n",
    "plt.show()"
   ]
  },
  {
   "cell_type": "code",
   "execution_count": null,
   "metadata": {},
   "outputs": [],
   "source": []
  }
 ],
 "metadata": {
  "anaconda-cloud": {},
  "kernelspec": {
   "display_name": "Python 3",
   "language": "python",
   "name": "python3"
  },
  "language_info": {
   "codemirror_mode": {
    "name": "ipython",
    "version": 3
   },
   "file_extension": ".py",
   "mimetype": "text/x-python",
   "name": "python",
   "nbconvert_exporter": "python",
   "pygments_lexer": "ipython3",
   "version": "3.7.1"
  }
 },
 "nbformat": 4,
 "nbformat_minor": 2
}
