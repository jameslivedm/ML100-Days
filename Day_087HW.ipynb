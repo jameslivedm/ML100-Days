{
 "cells": [
  {
   "cell_type": "markdown",
   "metadata": {},
   "source": [
    "## Work\n",
    "1. 請改變 reduce_lr 的 patience 和 factor 並比較不同設定下，對訓練/驗證集的影響\n",
    "2. 請將 optimizer 換成 Adam、RMSprop 搭配 reduce_lr 並比較訓練結果"
   ]
  },
  {
   "cell_type": "code",
   "execution_count": 1,
   "metadata": {},
   "outputs": [],
   "source": [
    "import os\n",
    "import tensorflow as tf\n",
    "import itertools\n",
    "# Disable GPU\n",
    "os.environ[\"CUDA_VISIBLE_DEVICES\"] = \"\""
   ]
  },
  {
   "cell_type": "code",
   "execution_count": 2,
   "metadata": {},
   "outputs": [],
   "source": [
    "train, test = tf.keras.datasets.cifar10.load_data()"
   ]
  },
  {
   "cell_type": "code",
   "execution_count": 3,
   "metadata": {},
   "outputs": [],
   "source": [
    "## 資料前處理\n",
    "def preproc_x(x, flatten=True):\n",
    "    x = x / 255.\n",
    "    if flatten:\n",
    "        x = x.reshape((len(x), -1))\n",
    "    return x\n",
    "\n",
    "def preproc_y(y, num_classes=10):\n",
    "    if y.shape[-1] == 1:\n",
    "        y = tf.keras.utils.to_categorical(y, num_classes)\n",
    "    return y    "
   ]
  },
  {
   "cell_type": "code",
   "execution_count": 4,
   "metadata": {},
   "outputs": [],
   "source": [
    "x_train, y_train = train\n",
    "x_test, y_test = test\n",
    "\n",
    "# Preproc the inputs\n",
    "x_train = preproc_x(x_train)\n",
    "x_test = preproc_x(x_test)\n",
    "\n",
    "# Preprc the outputs\n",
    "y_train = preproc_y(y_train)\n",
    "y_test = preproc_y(y_test)"
   ]
  },
  {
   "cell_type": "code",
   "execution_count": 11,
   "metadata": {},
   "outputs": [],
   "source": [
    "from tensorflow.keras.layers import BatchNormalization\n",
    "def build_mlp(input_shape, output_units=10, num_neurons=[512, 256, 128]):\n",
    "    input_layer = tf.keras.layers.Input(input_shape)\n",
    "    \n",
    "    for i, n_units in enumerate(num_neurons):\n",
    "        if i == 0:\n",
    "            x = tf.keras.layers.Dense(units=n_units, \n",
    "                                   activation=\"relu\", \n",
    "                                   name=\"hidden_layer\"+str(i+1))(input_layer)\n",
    "            x = BatchNormalization()(x)\n",
    "        else:\n",
    "            x = tf.keras.layers.Dense(units=n_units, \n",
    "                                   activation=\"relu\", \n",
    "                                   name=\"hidden_layer\"+str(i+1))(x)\n",
    "            x = BatchNormalization()(x)\n",
    "    \n",
    "    out = tf.keras.layers.Dense(units=output_units, activation=\"softmax\", name=\"output\")(x)\n",
    "    \n",
    "    model = tf.keras.models.Model(inputs=[input_layer], outputs=[out])\n",
    "    return model"
   ]
  },
  {
   "cell_type": "code",
   "execution_count": 6,
   "metadata": {},
   "outputs": [],
   "source": [
    "## 超參數設定\n",
    "LEARNING_RATE = 1e-3\n",
    "EPOCHS = 50\n",
    "BATCH_SIZE = 1024\n",
    "MOMENTUM = 0.95"
   ]
  },
  {
   "cell_type": "code",
   "execution_count": 9,
   "metadata": {},
   "outputs": [],
   "source": [
    "# 載入 Callbacks\n",
    "from tensorflow.keras.callbacks import ReduceLROnPlateau\n",
    "reduce_lr = ReduceLROnPlateau(factor=0.1, \n",
    "                              min_lr=1e-12, \n",
    "                              monitor='val_loss', \n",
    "                              patience=10, \n",
    "                              verbose=1)"
   ]
  },
  {
   "cell_type": "code",
   "execution_count": 12,
   "metadata": {
    "scrolled": true
   },
   "outputs": [
    {
     "name": "stdout",
     "output_type": "stream",
     "text": [
      "WARNING:tensorflow:From D:\\Anaconda3\\lib\\site-packages\\tensorflow\\python\\ops\\resource_variable_ops.py:435: colocate_with (from tensorflow.python.framework.ops) is deprecated and will be removed in a future version.\n",
      "Instructions for updating:\n",
      "Colocations handled automatically by placer.\n",
      "_________________________________________________________________\n",
      "Layer (type)                 Output Shape              Param #   \n",
      "=================================================================\n",
      "input_1 (InputLayer)         (None, 3072)              0         \n",
      "_________________________________________________________________\n",
      "hidden_layer1 (Dense)        (None, 512)               1573376   \n",
      "_________________________________________________________________\n",
      "batch_normalization_v1 (Batc (None, 512)               2048      \n",
      "_________________________________________________________________\n",
      "hidden_layer2 (Dense)        (None, 256)               131328    \n",
      "_________________________________________________________________\n",
      "batch_normalization_v1_1 (Ba (None, 256)               1024      \n",
      "_________________________________________________________________\n",
      "hidden_layer3 (Dense)        (None, 128)               32896     \n",
      "_________________________________________________________________\n",
      "batch_normalization_v1_2 (Ba (None, 128)               512       \n",
      "_________________________________________________________________\n",
      "output (Dense)               (None, 10)                1290      \n",
      "=================================================================\n",
      "Total params: 1,742,474\n",
      "Trainable params: 1,740,682\n",
      "Non-trainable params: 1,792\n",
      "_________________________________________________________________\n",
      "Train on 50000 samples, validate on 10000 samples\n",
      "WARNING:tensorflow:From D:\\Anaconda3\\lib\\site-packages\\tensorflow\\python\\ops\\math_ops.py:3066: to_int32 (from tensorflow.python.ops.math_ops) is deprecated and will be removed in a future version.\n",
      "Instructions for updating:\n",
      "Use tf.cast instead.\n",
      "Epoch 1/50\n",
      "50000/50000 [==============================] - 6s 125us/sample - loss: 2.1987 - acc: 0.2723 - val_loss: 2.1092 - val_acc: 0.2036\n",
      "Epoch 2/50\n",
      "50000/50000 [==============================] - 5s 103us/sample - loss: 1.7549 - acc: 0.3925 - val_loss: 1.9716 - val_acc: 0.2927\n",
      "Epoch 3/50\n",
      "50000/50000 [==============================] - 5s 102us/sample - loss: 1.6275 - acc: 0.4314 - val_loss: 1.8431 - val_acc: 0.3604\n",
      "Epoch 4/50\n",
      "50000/50000 [==============================] - 5s 96us/sample - loss: 1.5528 - acc: 0.4574 - val_loss: 1.7381 - val_acc: 0.3987\n",
      "Epoch 5/50\n",
      "50000/50000 [==============================] - 5s 102us/sample - loss: 1.4947 - acc: 0.4759 - val_loss: 1.6484 - val_acc: 0.4317\n",
      "Epoch 6/50\n",
      "50000/50000 [==============================] - 5s 99us/sample - loss: 1.4473 - acc: 0.4928 - val_loss: 1.5926 - val_acc: 0.4450\n",
      "Epoch 7/50\n",
      "50000/50000 [==============================] - 5s 99us/sample - loss: 1.4059 - acc: 0.5081 - val_loss: 1.5526 - val_acc: 0.4574\n",
      "Epoch 8/50\n",
      "50000/50000 [==============================] - 5s 95us/sample - loss: 1.3703 - acc: 0.5214 - val_loss: 1.5372 - val_acc: 0.4624\n",
      "Epoch 9/50\n",
      "50000/50000 [==============================] - 5s 101us/sample - loss: 1.3350 - acc: 0.5325 - val_loss: 1.5041 - val_acc: 0.4727\n",
      "Epoch 10/50\n",
      "50000/50000 [==============================] - 5s 100us/sample - loss: 1.3049 - acc: 0.5440 - val_loss: 1.4974 - val_acc: 0.4776\n",
      "Epoch 11/50\n",
      "50000/50000 [==============================] - 5s 102us/sample - loss: 1.2757 - acc: 0.5551 - val_loss: 1.4847 - val_acc: 0.4737\n",
      "Epoch 12/50\n",
      "50000/50000 [==============================] - 5s 96us/sample - loss: 1.2479 - acc: 0.5645 - val_loss: 1.4714 - val_acc: 0.4809\n",
      "Epoch 13/50\n",
      "50000/50000 [==============================] - 5s 102us/sample - loss: 1.2218 - acc: 0.5752 - val_loss: 1.4720 - val_acc: 0.4785\n",
      "Epoch 14/50\n",
      "50000/50000 [==============================] - 5s 103us/sample - loss: 1.1954 - acc: 0.5855 - val_loss: 1.4654 - val_acc: 0.4859\n",
      "Epoch 15/50\n",
      "50000/50000 [==============================] - 5s 104us/sample - loss: 1.1693 - acc: 0.5949 - val_loss: 1.4723 - val_acc: 0.4863\n",
      "Epoch 16/50\n",
      "50000/50000 [==============================] - 5s 100us/sample - loss: 1.1481 - acc: 0.6019 - val_loss: 1.4646 - val_acc: 0.4842\n",
      "Epoch 17/50\n",
      "50000/50000 [==============================] - 5s 98us/sample - loss: 1.1261 - acc: 0.6108 - val_loss: 1.4583 - val_acc: 0.4850\n",
      "Epoch 18/50\n",
      "50000/50000 [==============================] - 5s 100us/sample - loss: 1.1000 - acc: 0.6221 - val_loss: 1.4580 - val_acc: 0.4858\n",
      "Epoch 19/50\n",
      "50000/50000 [==============================] - 5s 100us/sample - loss: 1.0799 - acc: 0.6297 - val_loss: 1.4684 - val_acc: 0.4816\n",
      "Epoch 20/50\n",
      "50000/50000 [==============================] - 5s 98us/sample - loss: 1.0606 - acc: 0.6387 - val_loss: 1.4694 - val_acc: 0.4885\n",
      "Epoch 21/50\n",
      "50000/50000 [==============================] - 5s 99us/sample - loss: 1.0353 - acc: 0.6463 - val_loss: 1.4740 - val_acc: 0.4860\n",
      "Epoch 22/50\n",
      "50000/50000 [==============================] - 5s 108us/sample - loss: 1.0154 - acc: 0.6544 - val_loss: 1.4494 - val_acc: 0.4925\n",
      "Epoch 23/50\n",
      "50000/50000 [==============================] - 5s 109us/sample - loss: 0.9901 - acc: 0.6630 - val_loss: 1.4651 - val_acc: 0.4894\n",
      "Epoch 24/50\n",
      "50000/50000 [==============================] - 5s 96us/sample - loss: 0.9702 - acc: 0.6719 - val_loss: 1.4631 - val_acc: 0.4946\n",
      "Epoch 25/50\n",
      "50000/50000 [==============================] - 5s 99us/sample - loss: 0.9508 - acc: 0.6792 - val_loss: 1.4585 - val_acc: 0.4948s: 0.9515 - acc: 0.678\n",
      "Epoch 26/50\n",
      "50000/50000 [==============================] - 5s 98us/sample - loss: 0.9314 - acc: 0.6857 - val_loss: 1.4832 - val_acc: 0.4880\n",
      "Epoch 27/50\n",
      "50000/50000 [==============================] - 5s 96us/sample - loss: 0.9114 - acc: 0.6944 - val_loss: 1.4912 - val_acc: 0.4880\n",
      "Epoch 28/50\n",
      "50000/50000 [==============================] - 5s 96us/sample - loss: 0.8915 - acc: 0.7017 - val_loss: 1.4843 - val_acc: 0.4878\n",
      "Epoch 29/50\n",
      "50000/50000 [==============================] - 5s 98us/sample - loss: 0.8717 - acc: 0.7078 - val_loss: 1.4853 - val_acc: 0.4913\n",
      "Epoch 30/50\n",
      "50000/50000 [==============================] - 5s 96us/sample - loss: 0.8513 - acc: 0.7180 - val_loss: 1.4948 - val_acc: 0.4914\n",
      "Epoch 31/50\n",
      "50000/50000 [==============================] - 5s 99us/sample - loss: 0.8314 - acc: 0.7257 - val_loss: 1.5255 - val_acc: 0.4856\n",
      "Epoch 32/50\n",
      "49152/50000 [============================>.] - ETA: 0s - loss: 0.8123 - acc: 0.7360\n",
      "Epoch 00032: ReduceLROnPlateau reducing learning rate to 0.00010000000474974513.\n",
      "50000/50000 [==============================] - 5s 97us/sample - loss: 0.8127 - acc: 0.7357 - val_loss: 1.4989 - val_acc: 0.4947\n",
      "Epoch 33/50\n",
      "50000/50000 [==============================] - 5s 99us/sample - loss: 0.8127 - acc: 0.7318 - val_loss: 1.4953 - val_acc: 0.4968\n",
      "Epoch 34/50\n",
      "50000/50000 [==============================] - 5s 97us/sample - loss: 0.7688 - acc: 0.7532 - val_loss: 1.4875 - val_acc: 0.4992\n",
      "Epoch 35/50\n",
      "50000/50000 [==============================] - 5s 99us/sample - loss: 0.7562 - acc: 0.7595 - val_loss: 1.4860 - val_acc: 0.4987\n",
      "Epoch 36/50\n",
      "50000/50000 [==============================] - 5s 96us/sample - loss: 0.7513 - acc: 0.7602 - val_loss: 1.4876 - val_acc: 0.4989\n",
      "Epoch 37/50\n",
      "50000/50000 [==============================] - 5s 99us/sample - loss: 0.7470 - acc: 0.7634 - val_loss: 1.4906 - val_acc: 0.4992\n",
      "Epoch 38/50\n",
      "50000/50000 [==============================] - 5s 96us/sample - loss: 0.7449 - acc: 0.7642 - val_loss: 1.4884 - val_acc: 0.5018\n",
      "Epoch 39/50\n",
      "50000/50000 [==============================] - 5s 98us/sample - loss: 0.7427 - acc: 0.7648 - val_loss: 1.4908 - val_acc: 0.4999\n",
      "Epoch 40/50\n",
      "50000/50000 [==============================] - 5s 97us/sample - loss: 0.7401 - acc: 0.7662 - val_loss: 1.4934 - val_acc: 0.5022\n",
      "Epoch 41/50\n",
      "50000/50000 [==============================] - 5s 97us/sample - loss: 0.7381 - acc: 0.7677 - val_loss: 1.4947 - val_acc: 0.5008oss: 0.7416 -\n",
      "Epoch 42/50\n",
      "49152/50000 [============================>.] - ETA: 0s - loss: 0.7341 - acc: 0.7685\n",
      "Epoch 00042: ReduceLROnPlateau reducing learning rate to 1.0000000474974514e-05.\n",
      "50000/50000 [==============================] - 5s 95us/sample - loss: 0.7348 - acc: 0.7679 - val_loss: 1.4960 - val_acc: 0.4994\n"
     ]
    },
    {
     "name": "stdout",
     "output_type": "stream",
     "text": [
      "Epoch 43/50\n",
      "50000/50000 [==============================] - 5s 96us/sample - loss: 0.7331 - acc: 0.7689 - val_loss: 1.4939 - val_acc: 0.4979\n",
      "Epoch 44/50\n",
      "50000/50000 [==============================] - 5s 97us/sample - loss: 0.7301 - acc: 0.7707 - val_loss: 1.4935 - val_acc: 0.5003\n",
      "Epoch 45/50\n",
      "50000/50000 [==============================] - 5s 97us/sample - loss: 0.7292 - acc: 0.7716 - val_loss: 1.4939 - val_acc: 0.5009\n",
      "Epoch 46/50\n",
      "50000/50000 [==============================] - 5s 98us/sample - loss: 0.7277 - acc: 0.7718 - val_loss: 1.4943 - val_acc: 0.5014\n",
      "Epoch 47/50\n",
      "50000/50000 [==============================] - 5s 97us/sample - loss: 0.7269 - acc: 0.7721 - val_loss: 1.4945 - val_acc: 0.5006\n",
      "Epoch 48/50\n",
      "50000/50000 [==============================] - 5s 97us/sample - loss: 0.7278 - acc: 0.7714 - val_loss: 1.4946 - val_acc: 0.5010\n",
      "Epoch 49/50\n",
      "50000/50000 [==============================] - 5s 96us/sample - loss: 0.7276 - acc: 0.7720 - val_loss: 1.4948 - val_acc: 0.5020\n",
      "Epoch 50/50\n",
      "50000/50000 [==============================] - 5s 100us/sample - loss: 0.7270 - acc: 0.7726 - val_loss: 1.4949 - val_acc: 0.5001\n"
     ]
    }
   ],
   "source": [
    "model = build_mlp(input_shape=x_train.shape[1:])\n",
    "model.summary()\n",
    "optimizer = tf.keras.optimizers.SGD(lr=LEARNING_RATE, nesterov=True, momentum=MOMENTUM)\n",
    "model.compile(loss=\"categorical_crossentropy\", metrics=[\"accuracy\"], optimizer=optimizer)\n",
    "\n",
    "model.fit(x_train, y_train, \n",
    "          epochs=EPOCHS, \n",
    "          batch_size=BATCH_SIZE, \n",
    "          validation_data=(x_test, y_test), \n",
    "          shuffle=True,\n",
    "          callbacks=[reduce_lr]\n",
    "         )\n",
    "\n",
    "# Collect results\n",
    "train_loss = model.history.history[\"loss\"]\n",
    "valid_loss = model.history.history[\"val_loss\"]\n",
    "train_acc = model.history.history[\"acc\"]\n",
    "valid_acc = model.history.history[\"val_acc\"]"
   ]
  },
  {
   "cell_type": "code",
   "execution_count": 13,
   "metadata": {
    "scrolled": true
   },
   "outputs": [
    {
     "data": {
      "image/png": "[encoded data removed]",
      "text/plain": [
       "<Figure size 432x288 with 1 Axes>"
      ]
     },
     "metadata": {
      "needs_background": "light"
     },
     "output_type": "display_data"
    },
    {
     "data": {
      "image/png": "[encoded data removed]",
      "text/plain": [
       "<Figure size 432x288 with 1 Axes>"
      ]
     },
     "metadata": {
      "needs_background": "light"
     },
     "output_type": "display_data"
    }
   ],
   "source": [
    "# 繪製結果\n",
    "import matplotlib.pyplot as plt\n",
    "%matplotlib inline\n",
    "\n",
    "plt.plot(range(len(train_loss)), train_loss, label=\"train loss\")\n",
    "plt.plot(range(len(valid_loss)), valid_loss, label=\"valid loss\")\n",
    "plt.legend()\n",
    "plt.title(\"Loss\")\n",
    "plt.show()\n",
    "\n",
    "plt.plot(range(len(train_acc)), train_acc, label=\"train accuracy\")\n",
    "plt.plot(range(len(valid_acc)), valid_acc, label=\"valid accuracy\")\n",
    "plt.legend()\n",
    "plt.title(\"Accuracy\")\n",
    "plt.show()"
   ]
  },
  {
   "cell_type": "code",
   "execution_count": 14,
   "metadata": {
    "scrolled": true
   },
   "outputs": [
    {
     "name": "stdout",
     "output_type": "stream",
     "text": [
      "_________________________________________________________________\n",
      "Layer (type)                 Output Shape              Param #   \n",
      "=================================================================\n",
      "input_2 (InputLayer)         (None, 3072)              0         \n",
      "_________________________________________________________________\n",
      "hidden_layer1 (Dense)        (None, 512)               1573376   \n",
      "_________________________________________________________________\n",
      "batch_normalization_v1_3 (Ba (None, 512)               2048      \n",
      "_________________________________________________________________\n",
      "hidden_layer2 (Dense)        (None, 256)               131328    \n",
      "_________________________________________________________________\n",
      "batch_normalization_v1_4 (Ba (None, 256)               1024      \n",
      "_________________________________________________________________\n",
      "hidden_layer3 (Dense)        (None, 128)               32896     \n",
      "_________________________________________________________________\n",
      "batch_normalization_v1_5 (Ba (None, 128)               512       \n",
      "_________________________________________________________________\n",
      "output (Dense)               (None, 10)                1290      \n",
      "=================================================================\n",
      "Total params: 1,742,474\n",
      "Trainable params: 1,740,682\n",
      "Non-trainable params: 1,792\n",
      "_________________________________________________________________\n",
      "Train on 50000 samples, validate on 10000 samples\n",
      "Epoch 1/50\n",
      "50000/50000 [==============================] - 7s 132us/sample - loss: 1.7598 - acc: 0.3889 - val_loss: 3.3178 - val_acc: 0.1420\n",
      "Epoch 2/50\n",
      "50000/50000 [==============================] - 6s 113us/sample - loss: 1.4909 - acc: 0.4763 - val_loss: 1.8761 - val_acc: 0.3330\n",
      "Epoch 3/50\n",
      "50000/50000 [==============================] - 5s 108us/sample - loss: 1.3870 - acc: 0.5096 - val_loss: 1.8552 - val_acc: 0.3472\n",
      "Epoch 4/50\n",
      "50000/50000 [==============================] - 6s 115us/sample - loss: 1.3122 - acc: 0.5360 - val_loss: 1.7989 - val_acc: 0.3650\n",
      "Epoch 5/50\n",
      "50000/50000 [==============================] - 5s 110us/sample - loss: 1.2492 - acc: 0.5611 - val_loss: 1.7211 - val_acc: 0.3839\n",
      "Epoch 6/50\n",
      "50000/50000 [==============================] - 5s 105us/sample - loss: 1.1944 - acc: 0.5793 - val_loss: 1.5726 - val_acc: 0.4442\n",
      "Epoch 7/50\n",
      "50000/50000 [==============================] - 5s 105us/sample - loss: 1.1399 - acc: 0.6002 - val_loss: 1.9354 - val_acc: 0.3610\n",
      "Epoch 8/50\n",
      "50000/50000 [==============================] - 5s 105us/sample - loss: 1.0901 - acc: 0.6162 - val_loss: 1.7051 - val_acc: 0.4135 - a\n",
      "Epoch 9/50\n",
      "50000/50000 [==============================] - 5s 106us/sample - loss: 1.0491 - acc: 0.6302 - val_loss: 1.7607 - val_acc: 0.3769\n",
      "Epoch 10/50\n",
      "50000/50000 [==============================] - 5s 105us/sample - loss: 1.0043 - acc: 0.6495 - val_loss: 1.7849 - val_acc: 0.4033\n",
      "Epoch 11/50\n",
      "50000/50000 [==============================] - 5s 105us/sample - loss: 0.9614 - acc: 0.6629 - val_loss: 2.0467 - val_acc: 0.3880 0.9570 - acc: 0\n",
      "Epoch 12/50\n",
      "50000/50000 [==============================] - 5s 106us/sample - loss: 0.9262 - acc: 0.6740 - val_loss: 2.1267 - val_acc: 0.3720\n",
      "Epoch 13/50\n",
      "50000/50000 [==============================] - 5s 104us/sample - loss: 0.8896 - acc: 0.6880 - val_loss: 1.9971 - val_acc: 0.3804\n",
      "Epoch 14/50\n",
      "50000/50000 [==============================] - 6s 114us/sample - loss: 0.8562 - acc: 0.6999 - val_loss: 2.8159 - val_acc: 0.3283\n",
      "Epoch 15/50\n",
      "50000/50000 [==============================] - 5s 109us/sample - loss: 0.8211 - acc: 0.7144 - val_loss: 2.1268 - val_acc: 0.3810\n",
      "Epoch 16/50\n",
      "49152/50000 [============================>.] - ETA: 0s - loss: 0.7675 - acc: 0.7354\n",
      "Epoch 00016: ReduceLROnPlateau reducing learning rate to 0.00010000000474974513.\n",
      "50000/50000 [==============================] - 5s 109us/sample - loss: 0.7681 - acc: 0.7353 - val_loss: 1.8895 - val_acc: 0.4141\n",
      "Epoch 17/50\n",
      "50000/50000 [==============================] - 5s 106us/sample - loss: 0.6343 - acc: 0.7936 - val_loss: 1.4680 - val_acc: 0.5087\n",
      "Epoch 18/50\n",
      "50000/50000 [==============================] - 5s 106us/sample - loss: 0.5809 - acc: 0.8184 - val_loss: 1.4019 - val_acc: 0.5218\n",
      "Epoch 19/50\n",
      "50000/50000 [==============================] - 5s 108us/sample - loss: 0.5608 - acc: 0.8266 - val_loss: 1.3990 - val_acc: 0.5323\n",
      "Epoch 20/50\n",
      "50000/50000 [==============================] - 5s 107us/sample - loss: 0.5461 - acc: 0.8311 - val_loss: 1.3875 - val_acc: 0.5362\n",
      "Epoch 21/50\n",
      "50000/50000 [==============================] - 6s 117us/sample - loss: 0.5333 - acc: 0.8370 - val_loss: 1.3958 - val_acc: 0.5393\n",
      "Epoch 22/50\n",
      "50000/50000 [==============================] - 5s 105us/sample - loss: 0.5220 - acc: 0.8399 - val_loss: 1.4118 - val_acc: 0.5376\n",
      "Epoch 23/50\n",
      "50000/50000 [==============================] - 5s 104us/sample - loss: 0.5109 - acc: 0.8460 - val_loss: 1.4276 - val_acc: 0.5370\n",
      "Epoch 24/50\n",
      "50000/50000 [==============================] - 5s 106us/sample - loss: 0.4996 - acc: 0.8494 - val_loss: 1.4503 - val_acc: 0.5377\n",
      "Epoch 25/50\n",
      "50000/50000 [==============================] - 5s 102us/sample - loss: 0.4900 - acc: 0.8529 - val_loss: 1.4408 - val_acc: 0.5431\n",
      "Epoch 26/50\n",
      "50000/50000 [==============================] - 5s 102us/sample - loss: 0.4796 - acc: 0.8571 - val_loss: 1.4590 - val_acc: 0.5338\n",
      "Epoch 27/50\n",
      "50000/50000 [==============================] - 5s 104us/sample - loss: 0.4696 - acc: 0.8625 - val_loss: 1.4726 - val_acc: 0.5358\n",
      "Epoch 28/50\n",
      "50000/50000 [==============================] - 5s 102us/sample - loss: 0.4592 - acc: 0.8664 - val_loss: 1.4803 - val_acc: 0.5384\n",
      "Epoch 29/50\n",
      "50000/50000 [==============================] - 5s 101us/sample - loss: 0.4486 - acc: 0.8704 - val_loss: 1.4976 - val_acc: 0.5339\n",
      "Epoch 30/50\n",
      "49152/50000 [============================>.] - ETA: 0s - loss: 0.4389 - acc: 0.8758\n",
      "Epoch 00030: ReduceLROnPlateau reducing learning rate to 1.0000000474974514e-05.\n",
      "50000/50000 [==============================] - 5s 106us/sample - loss: 0.4394 - acc: 0.8756 - val_loss: 1.5061 - val_acc: 0.5312\n",
      "Epoch 31/50\n",
      "50000/50000 [==============================] - 6s 112us/sample - loss: 0.4181 - acc: 0.8840 - val_loss: 1.4857 - val_acc: 0.5359\n",
      "Epoch 32/50\n",
      "50000/50000 [==============================] - 6s 121us/sample - loss: 0.4136 - acc: 0.8863 - val_loss: 1.4905 - val_acc: 0.5352\n",
      "Epoch 33/50\n",
      "50000/50000 [==============================] - 6s 130us/sample - loss: 0.4118 - acc: 0.8872 - val_loss: 1.4927 - val_acc: 0.5364\n",
      "Epoch 34/50\n",
      "50000/50000 [==============================] - 5s 110us/sample - loss: 0.4106 - acc: 0.8877 - val_loss: 1.4962 - val_acc: 0.5365\n",
      "Epoch 35/50\n",
      "50000/50000 [==============================] - 6s 115us/sample - loss: 0.4094 - acc: 0.8877 - val_loss: 1.4975 - val_acc: 0.5356\n",
      "Epoch 36/50\n",
      "50000/50000 [==============================] - 6s 117us/sample - loss: 0.4102 - acc: 0.8874 - val_loss: 1.5004 - val_acc: 0.5353\n",
      "Epoch 37/50\n",
      "50000/50000 [==============================] - 6s 115us/sample - loss: 0.4074 - acc: 0.8886 - val_loss: 1.5028 - val_acc: 0.5349\n",
      "Epoch 38/50\n",
      "50000/50000 [==============================] - 7s 140us/sample - loss: 0.4061 - acc: 0.8888 - val_loss: 1.5034 - val_acc: 0.5367\n",
      "Epoch 39/50\n",
      "50000/50000 [==============================] - 6s 111us/sample - loss: 0.4055 - acc: 0.8907 - val_loss: 1.5036 - val_acc: 0.5352\n",
      "Epoch 40/50\n",
      "49152/50000 [============================>.] - ETA: 0s - loss: 0.4035 - acc: 0.8906\n",
      "Epoch 00040: ReduceLROnPlateau reducing learning rate to 1.0000000656873453e-06.\n",
      "50000/50000 [==============================] - 6s 111us/sample - loss: 0.4038 - acc: 0.8904 - val_loss: 1.5052 - val_acc: 0.5370\n",
      "Epoch 41/50\n",
      "50000/50000 [==============================] - 6s 113us/sample - loss: 0.4013 - acc: 0.8908 - val_loss: 1.5063 - val_acc: 0.5371\n",
      "Epoch 42/50\n",
      "50000/50000 [==============================] - 5s 110us/sample - loss: 0.4017 - acc: 0.8923 - val_loss: 1.5070 - val_acc: 0.5361\n",
      "Epoch 43/50\n",
      "50000/50000 [==============================] - 6s 110us/sample - loss: 0.4015 - acc: 0.8921 - val_loss: 1.5077 - val_acc: 0.5363\n",
      "Epoch 44/50\n",
      "50000/50000 [==============================] - 6s 111us/sample - loss: 0.4013 - acc: 0.8918 - val_loss: 1.5081 - val_acc: 0.5364\n",
      "Epoch 45/50\n"
     ]
    },
    {
     "name": "stdout",
     "output_type": "stream",
     "text": [
      "50000/50000 [==============================] - 6s 112us/sample - loss: 0.4003 - acc: 0.8923 - val_loss: 1.5082 - val_acc: 0.5366\n",
      "Epoch 46/50\n",
      "50000/50000 [==============================] - 5s 109us/sample - loss: 0.4009 - acc: 0.8917 - val_loss: 1.5082 - val_acc: 0.5365\n",
      "Epoch 47/50\n",
      "50000/50000 [==============================] - 6s 121us/sample - loss: 0.4008 - acc: 0.8916 - val_loss: 1.5085 - val_acc: 0.5366\n",
      "Epoch 48/50\n",
      "50000/50000 [==============================] - 5s 109us/sample - loss: 0.4008 - acc: 0.8920 - val_loss: 1.5085 - val_acc: 0.5366\n",
      "Epoch 49/50\n",
      "50000/50000 [==============================] - 6s 113us/sample - loss: 0.4011 - acc: 0.8911 - val_loss: 1.5089 - val_acc: 0.5358\n",
      "Epoch 50/50\n",
      "49152/50000 [============================>.] - ETA: 0s - loss: 0.4009 - acc: 0.8903\n",
      "Epoch 00050: ReduceLROnPlateau reducing learning rate to 1.0000001111620805e-07.\n",
      "50000/50000 [==============================] - 6s 117us/sample - loss: 0.4010 - acc: 0.8904 - val_loss: 1.5090 - val_acc: 0.5360\n"
     ]
    }
   ],
   "source": [
    "model = build_mlp(input_shape=x_train.shape[1:])\n",
    "model.summary()\n",
    "optimizer = tf.keras.optimizers.Adam(lr=LEARNING_RATE)\n",
    "model.compile(loss=\"categorical_crossentropy\", metrics=[\"accuracy\"], optimizer=optimizer)\n",
    "\n",
    "model.fit(x_train, y_train, \n",
    "          epochs=EPOCHS, \n",
    "          batch_size=BATCH_SIZE, \n",
    "          validation_data=(x_test, y_test), \n",
    "          shuffle=True,\n",
    "          callbacks=[reduce_lr]\n",
    "         )\n",
    "\n",
    "# Collect results\n",
    "train_loss = model.history.history[\"loss\"]\n",
    "valid_loss = model.history.history[\"val_loss\"]\n",
    "train_acc = model.history.history[\"acc\"]\n",
    "valid_acc = model.history.history[\"val_acc\"]"
   ]
  },
  {
   "cell_type": "code",
   "execution_count": 15,
   "metadata": {},
   "outputs": [
    {
     "data": {
      "image/png": "[encoded data removed]",
      "text/plain": [
       "<Figure size 432x288 with 1 Axes>"
      ]
     },
     "metadata": {
      "needs_background": "light"
     },
     "output_type": "display_data"
    },
    {
     "data": {
      "image/png": "[encoded data removed]",
      "text/plain": [
       "<Figure size 432x288 with 1 Axes>"
      ]
     },
     "metadata": {
      "needs_background": "light"
     },
     "output_type": "display_data"
    }
   ],
   "source": [
    "plt.plot(range(len(train_loss)), train_loss, label=\"train loss\")\n",
    "plt.plot(range(len(valid_loss)), valid_loss, label=\"valid loss\")\n",
    "plt.legend()\n",
    "plt.title(\"Loss\")\n",
    "plt.show()\n",
    "\n",
    "plt.plot(range(len(train_acc)), train_acc, label=\"train accuracy\")\n",
    "plt.plot(range(len(valid_acc)), valid_acc, label=\"valid accuracy\")\n",
    "plt.legend()\n",
    "plt.title(\"Accuracy\")\n",
    "plt.show()"
   ]
  },
  {
   "cell_type": "code",
   "execution_count": 16,
   "metadata": {
    "scrolled": true
   },
   "outputs": [
    {
     "name": "stdout",
     "output_type": "stream",
     "text": [
      "_________________________________________________________________\n",
      "Layer (type)                 Output Shape              Param #   \n",
      "=================================================================\n",
      "input_3 (InputLayer)         (None, 3072)              0         \n",
      "_________________________________________________________________\n",
      "hidden_layer1 (Dense)        (None, 512)               1573376   \n",
      "_________________________________________________________________\n",
      "batch_normalization_v1_6 (Ba (None, 512)               2048      \n",
      "_________________________________________________________________\n",
      "hidden_layer2 (Dense)        (None, 256)               131328    \n",
      "_________________________________________________________________\n",
      "batch_normalization_v1_7 (Ba (None, 256)               1024      \n",
      "_________________________________________________________________\n",
      "hidden_layer3 (Dense)        (None, 128)               32896     \n",
      "_________________________________________________________________\n",
      "batch_normalization_v1_8 (Ba (None, 128)               512       \n",
      "_________________________________________________________________\n",
      "output (Dense)               (None, 10)                1290      \n",
      "=================================================================\n",
      "Total params: 1,742,474\n",
      "Trainable params: 1,740,682\n",
      "Non-trainable params: 1,792\n",
      "_________________________________________________________________\n",
      "Train on 50000 samples, validate on 10000 samples\n",
      "Epoch 1/50\n",
      "50000/50000 [==============================] - 6s 129us/sample - loss: 1.8079 - acc: 0.3704 - val_loss: 2.1924 - val_acc: 0.2761\n",
      "Epoch 2/50\n",
      "50000/50000 [==============================] - 5s 108us/sample - loss: 1.5367 - acc: 0.4591 - val_loss: 2.4190 - val_acc: 0.2580\n",
      "Epoch 3/50\n",
      "50000/50000 [==============================] - 6s 111us/sample - loss: 1.4288 - acc: 0.4945 - val_loss: 2.2966 - val_acc: 0.2880\n",
      "Epoch 4/50\n",
      "50000/50000 [==============================] - 5s 106us/sample - loss: 1.3612 - acc: 0.5176 - val_loss: 2.7175 - val_acc: 0.2569\n",
      "Epoch 5/50\n",
      "50000/50000 [==============================] - 5s 107us/sample - loss: 1.3026 - acc: 0.5411 - val_loss: 1.8764 - val_acc: 0.3513\n",
      "Epoch 6/50\n",
      "50000/50000 [==============================] - 5s 108us/sample - loss: 1.2448 - acc: 0.5615 - val_loss: 2.0610 - val_acc: 0.3301\n",
      "Epoch 7/50\n",
      "50000/50000 [==============================] - 5s 107us/sample - loss: 1.2061 - acc: 0.5748 - val_loss: 1.8366 - val_acc: 0.3715\n",
      "Epoch 8/50\n",
      "50000/50000 [==============================] - 5s 104us/sample - loss: 1.1623 - acc: 0.5891 - val_loss: 1.9435 - val_acc: 0.3694\n",
      "Epoch 9/50\n",
      "50000/50000 [==============================] - 5s 109us/sample - loss: 1.1230 - acc: 0.6047 - val_loss: 2.0095 - val_acc: 0.3625\n",
      "Epoch 10/50\n",
      "50000/50000 [==============================] - 5s 106us/sample - loss: 1.0842 - acc: 0.6177 - val_loss: 1.9218 - val_acc: 0.3757\n",
      "Epoch 11/50\n",
      "50000/50000 [==============================] - 5s 104us/sample - loss: 1.0566 - acc: 0.6272 - val_loss: 1.7381 - val_acc: 0.4046\n",
      "Epoch 12/50\n",
      "50000/50000 [==============================] - 6s 116us/sample - loss: 1.0170 - acc: 0.6431 - val_loss: 2.8814 - val_acc: 0.2244\n",
      "Epoch 13/50\n",
      "50000/50000 [==============================] - 5s 107us/sample - loss: 0.9846 - acc: 0.6542 - val_loss: 2.0009 - val_acc: 0.3702\n",
      "Epoch 14/50\n",
      "50000/50000 [==============================] - 5s 108us/sample - loss: 0.9556 - acc: 0.6649 - val_loss: 2.0658 - val_acc: 0.3735\n",
      "Epoch 15/50\n",
      "50000/50000 [==============================] - 5s 109us/sample - loss: 0.9211 - acc: 0.6761 - val_loss: 1.7429 - val_acc: 0.4249\n",
      "Epoch 16/50\n",
      "50000/50000 [==============================] - 5s 107us/sample - loss: 0.8919 - acc: 0.6881 - val_loss: 1.7363 - val_acc: 0.4280\n",
      "Epoch 17/50\n",
      "50000/50000 [==============================] - 6s 114us/sample - loss: 0.8683 - acc: 0.6948 - val_loss: 1.6450 - val_acc: 0.4567\n",
      "Epoch 18/50\n",
      "50000/50000 [==============================] - 5s 106us/sample - loss: 0.8409 - acc: 0.7050 - val_loss: 1.8866 - val_acc: 0.4374\n",
      "Epoch 19/50\n",
      "50000/50000 [==============================] - 5s 104us/sample - loss: 0.8165 - acc: 0.7137 - val_loss: 1.7616 - val_acc: 0.4411\n",
      "Epoch 20/50\n",
      "50000/50000 [==============================] - 5s 107us/sample - loss: 0.7847 - acc: 0.7251 - val_loss: 1.9268 - val_acc: 0.4013\n",
      "Epoch 21/50\n",
      "50000/50000 [==============================] - 5s 104us/sample - loss: 0.7584 - acc: 0.7337 - val_loss: 2.0961 - val_acc: 0.4067\n",
      "Epoch 22/50\n",
      "50000/50000 [==============================] - 5s 106us/sample - loss: 0.7345 - acc: 0.7444 - val_loss: 2.1942 - val_acc: 0.3787\n",
      "Epoch 23/50\n",
      "50000/50000 [==============================] - 5s 107us/sample - loss: 0.7059 - acc: 0.7528 - val_loss: 2.6248 - val_acc: 0.3308\n",
      "Epoch 24/50\n",
      "50000/50000 [==============================] - 5s 106us/sample - loss: 0.6859 - acc: 0.7595 - val_loss: 2.0892 - val_acc: 0.4039\n",
      "Epoch 25/50\n",
      "50000/50000 [==============================] - 5s 104us/sample - loss: 0.6525 - acc: 0.7731 - val_loss: 1.7631 - val_acc: 0.4633\n",
      "Epoch 26/50\n",
      "50000/50000 [==============================] - 5s 106us/sample - loss: 0.6349 - acc: 0.7807 - val_loss: 2.5623 - val_acc: 0.3749\n",
      "Epoch 27/50\n",
      "49152/50000 [============================>.] - ETA: 0s - loss: 0.6130 - acc: 0.7867\n",
      "Epoch 00027: ReduceLROnPlateau reducing learning rate to 0.00010000000474974513.\n",
      "50000/50000 [==============================] - 5s 109us/sample - loss: 0.6139 - acc: 0.7865 - val_loss: 2.0352 - val_acc: 0.4393\n",
      "Epoch 28/50\n",
      "50000/50000 [==============================] - 5s 105us/sample - loss: 0.4544 - acc: 0.8582 - val_loss: 1.5086 - val_acc: 0.5390\n",
      "Epoch 29/50\n",
      "50000/50000 [==============================] - 5s 105us/sample - loss: 0.4136 - acc: 0.8768 - val_loss: 1.5054 - val_acc: 0.5363\n",
      "Epoch 30/50\n",
      "50000/50000 [==============================] - 5s 106us/sample - loss: 0.3981 - acc: 0.8840 - val_loss: 1.5123 - val_acc: 0.5375\n",
      "Epoch 31/50\n",
      "50000/50000 [==============================] - 5s 105us/sample - loss: 0.3873 - acc: 0.8889 - val_loss: 1.5242 - val_acc: 0.5400\n",
      "Epoch 32/50\n",
      "50000/50000 [==============================] - 5s 106us/sample - loss: 0.3778 - acc: 0.8942 - val_loss: 1.5475 - val_acc: 0.5382\n",
      "Epoch 33/50\n",
      "50000/50000 [==============================] - 5s 104us/sample - loss: 0.3704 - acc: 0.8962 - val_loss: 1.5499 - val_acc: 0.5367\n",
      "Epoch 34/50\n",
      "50000/50000 [==============================] - 5s 102us/sample - loss: 0.3602 - acc: 0.9002 - val_loss: 1.5618 - val_acc: 0.5437\n",
      "Epoch 35/50\n",
      "50000/50000 [==============================] - 5s 104us/sample - loss: 0.3530 - acc: 0.9023 - val_loss: 1.5716 - val_acc: 0.5423\n",
      "Epoch 36/50\n",
      "50000/50000 [==============================] - 5s 106us/sample - loss: 0.3461 - acc: 0.9062 - val_loss: 1.5958 - val_acc: 0.5354\n",
      "Epoch 37/50\n",
      "50000/50000 [==============================] - 5s 105us/sample - loss: 0.3380 - acc: 0.9085 - val_loss: 1.5987 - val_acc: 0.5376\n",
      "Epoch 38/50\n",
      "50000/50000 [==============================] - 5s 105us/sample - loss: 0.3315 - acc: 0.9109 - val_loss: 1.6042 - val_acc: 0.5380\n",
      "Epoch 39/50\n",
      "49152/50000 [============================>.] - ETA: 0s - loss: 0.3244 - acc: 0.9143\n",
      "Epoch 00039: ReduceLROnPlateau reducing learning rate to 1.0000000474974514e-05.\n",
      "50000/50000 [==============================] - 5s 107us/sample - loss: 0.3248 - acc: 0.9141 - val_loss: 1.6252 - val_acc: 0.5329\n",
      "Epoch 40/50\n",
      "50000/50000 [==============================] - 5s 105us/sample - loss: 0.3075 - acc: 0.9219 - val_loss: 1.6139 - val_acc: 0.5388\n",
      "Epoch 41/50\n",
      "50000/50000 [==============================] - 5s 106us/sample - loss: 0.3046 - acc: 0.9237 - val_loss: 1.6165 - val_acc: 0.5405\n",
      "Epoch 42/50\n",
      "50000/50000 [==============================] - 6s 111us/sample - loss: 0.3033 - acc: 0.9242 - val_loss: 1.6179 - val_acc: 0.5420\n",
      "Epoch 43/50\n",
      "50000/50000 [==============================] - 6s 114us/sample - loss: 0.3020 - acc: 0.9248 - val_loss: 1.6219 - val_acc: 0.5413\n",
      "Epoch 44/50\n",
      "50000/50000 [==============================] - 6s 119us/sample - loss: 0.3014 - acc: 0.9251 - val_loss: 1.6217 - val_acc: 0.5399\n",
      "Epoch 45/50\n",
      "50000/50000 [==============================] - 5s 107us/sample - loss: 0.3010 - acc: 0.9260 - val_loss: 1.6246 - val_acc: 0.5405\n",
      "Epoch 46/50\n"
     ]
    },
    {
     "name": "stdout",
     "output_type": "stream",
     "text": [
      "50000/50000 [==============================] - 5s 102us/sample - loss: 0.3006 - acc: 0.9246 - val_loss: 1.6267 - val_acc: 0.5403\n",
      "Epoch 47/50\n",
      "50000/50000 [==============================] - 5s 103us/sample - loss: 0.2987 - acc: 0.9260 - val_loss: 1.6273 - val_acc: 0.5405\n",
      "Epoch 48/50\n",
      "50000/50000 [==============================] - 6s 121us/sample - loss: 0.2981 - acc: 0.9265 - val_loss: 1.6307 - val_acc: 0.5401\n",
      "Epoch 49/50\n",
      "49152/50000 [============================>.] - ETA: 0s - loss: 0.2975 - acc: 0.9260\n",
      "Epoch 00049: ReduceLROnPlateau reducing learning rate to 1.0000000656873453e-06.\n",
      "50000/50000 [==============================] - 5s 108us/sample - loss: 0.2977 - acc: 0.9260 - val_loss: 1.6304 - val_acc: 0.5394\n",
      "Epoch 50/50\n",
      "50000/50000 [==============================] - 6s 117us/sample - loss: 0.2950 - acc: 0.9273 - val_loss: 1.6313 - val_acc: 0.5391\n"
     ]
    }
   ],
   "source": [
    "model = build_mlp(input_shape=x_train.shape[1:])\n",
    "model.summary()\n",
    "optimizer = tf.keras.optimizers.RMSprop(lr=LEARNING_RATE)\n",
    "model.compile(loss=\"categorical_crossentropy\", metrics=[\"accuracy\"], optimizer=optimizer)\n",
    "\n",
    "model.fit(x_train, y_train, \n",
    "          epochs=EPOCHS, \n",
    "          batch_size=BATCH_SIZE, \n",
    "          validation_data=(x_test, y_test), \n",
    "          shuffle=True,\n",
    "          callbacks=[reduce_lr]\n",
    "         )\n",
    "\n",
    "# Collect results\n",
    "train_loss = model.history.history[\"loss\"]\n",
    "valid_loss = model.history.history[\"val_loss\"]\n",
    "train_acc = model.history.history[\"acc\"]\n",
    "valid_acc = model.history.history[\"val_acc\"]"
   ]
  },
  {
   "cell_type": "code",
   "execution_count": 17,
   "metadata": {},
   "outputs": [
    {
     "data": {
      "image/png": "[encoded data removed]",
      "text/plain": [
       "<Figure size 432x288 with 1 Axes>"
      ]
     },
     "metadata": {
      "needs_background": "light"
     },
     "output_type": "display_data"
    },
    {
     "data": {
      "image/png": "[encoded data removed]",
      "text/plain": [
       "<Figure size 432x288 with 1 Axes>"
      ]
     },
     "metadata": {
      "needs_background": "light"
     },
     "output_type": "display_data"
    }
   ],
   "source": [
    "plt.plot(range(len(train_loss)), train_loss, label=\"train loss\")\n",
    "plt.plot(range(len(valid_loss)), valid_loss, label=\"valid loss\")\n",
    "plt.legend()\n",
    "plt.title(\"Loss\")\n",
    "plt.show()\n",
    "\n",
    "plt.plot(range(len(train_acc)), train_acc, label=\"train accuracy\")\n",
    "plt.plot(range(len(valid_acc)), valid_acc, label=\"valid accuracy\")\n",
    "plt.legend()\n",
    "plt.title(\"Accuracy\")\n",
    "plt.show()"
   ]
  }
 ],
 "metadata": {
  "anaconda-cloud": {},
  "kernelspec": {
   "display_name": "Python 3",
   "language": "python",
   "name": "python3"
  },
  "language_info": {
   "codemirror_mode": {
    "name": "ipython",
    "version": 3
   },
   "file_extension": ".py",
   "mimetype": "text/x-python",
   "name": "python",
   "nbconvert_exporter": "python",
   "pygments_lexer": "ipython3",
   "version": "3.7.1"
  }
 },
 "nbformat": 4,
 "nbformat_minor": 2
}
