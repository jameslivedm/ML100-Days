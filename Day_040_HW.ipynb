{
 "cells": [
  {
   "cell_type": "markdown",
   "metadata": {},
   "source": [
    "## 練習時間\n",
    "試著使用 sklearn datasets 的其他資料集 (boston, ...)，來訓練自己的線性迴歸模型，並加上適當的正則話來觀察訓練情形。"
   ]
  },
  {
   "cell_type": "code",
   "execution_count": 20,
   "metadata": {},
   "outputs": [],
   "source": [
    "from sklearn import datasets\n",
    "from sklearn.linear_model import Lasso, Ridge\n",
    "from sklearn.model_selection import train_test_split, GridSearchCV, cross_val_score\n",
    "from sklearn.metrics import mean_squared_error\n",
    "import numpy as np\n",
    "import pandas as pd\n",
    "import matplotlib.pyplot as plt\n",
    "%matplotlib inline"
   ]
  },
  {
   "cell_type": "code",
   "execution_count": 3,
   "metadata": {},
   "outputs": [],
   "source": [
    "boston=datasets.load_boston()"
   ]
  },
  {
   "cell_type": "code",
   "execution_count": 5,
   "metadata": {},
   "outputs": [],
   "source": [
    "X_train, X_test, y_train, y_test=train_test_split(boston.data, boston.target, random_state=11)"
   ]
  },
  {
   "cell_type": "code",
   "execution_count": 27,
   "metadata": {},
   "outputs": [
    {
     "name": "stdout",
     "output_type": "stream",
     "text": [
      "{'alpha': 0.09900000000000002}\n"
     ]
    }
   ],
   "source": [
    "alpha=np.arange(0.085,0.1,0.001)\n",
    "param={'alpha':alpha}\n",
    "ridge=Ridge()\n",
    "clf=GridSearchCV(ridge, param, cv=5)\n",
    "clf.fit(X_train, y_train)\n",
    "alpha_best=clf.best_params_\n",
    "print(alpha_best)"
   ]
  },
  {
   "cell_type": "code",
   "execution_count": 31,
   "metadata": {},
   "outputs": [
    {
     "name": "stdout",
     "output_type": "stream",
     "text": [
      "[-1.000e-01  5.000e-02  2.000e-02  2.900e+00 -1.722e+01  4.410e+00\n",
      "  1.000e-02 -1.370e+00  3.100e-01 -1.000e-02 -8.600e-01  1.000e-02\n",
      " -4.900e-01]\n"
     ]
    }
   ],
   "source": [
    "ridge=Ridge(alpha=alpha_best['alpha'])\n",
    "ridge.fit(X_train,y_train)\n",
    "y_pred=ridge.predict(X_test)\n",
    "y_pred_train=ridge.predict(X_train)\n",
    "print(ridge.coef_.round(2))"
   ]
  },
  {
   "cell_type": "code",
   "execution_count": 25,
   "metadata": {},
   "outputs": [
    {
     "name": "stdout",
     "output_type": "stream",
     "text": [
      "RMSE for validation: 5.050677580857206\n",
      "RMSE for train: 4.5807192342184875\n",
      "Mean score for cross validation: 0.7023842804362934\n"
     ]
    },
    {
     "data": {
      "image/png": "[encoded data removed]",
      "text/plain": [
       "<Figure size 432x288 with 1 Axes>"
      ]
     },
     "metadata": {
      "needs_background": "light"
     },
     "output_type": "display_data"
    }
   ],
   "source": [
    "print(\"RMSE for validation:\",mean_squared_error(y_test, y_pred)**0.5)\n",
    "print(\"RMSE for train:\", mean_squared_error(y_train, y_pred_train)**0.5)\n",
    "print(\"Mean score for cross validation:\",cross_val_score(ridge, X_train, y_train, cv=5).mean())\n",
    "plt.plot([0,np.max(y_test)],[0,np.max(y_test)],linestyle='--', color='black', alpha=0.5)\n",
    "plt.scatter(y_pred, y_test)\n",
    "plt.xlabel(\"Predicted value\")\n",
    "plt.ylabel(\"Actaul value\")\n",
    "plt.title(\"Predicted vs Actual\")\n",
    "plt.show()"
   ]
  },
  {
   "cell_type": "code",
   "execution_count": null,
   "metadata": {},
   "outputs": [],
   "source": []
  }
 ],
 "metadata": {
  "kernelspec": {
   "display_name": "Python 3",
   "language": "python",
   "name": "python3"
  },
  "language_info": {
   "codemirror_mode": {
    "name": "ipython",
    "version": 3
   },
   "file_extension": ".py",
   "mimetype": "text/x-python",
   "name": "python",
   "nbconvert_exporter": "python",
   "pygments_lexer": "ipython3",
   "version": "3.7.0"
  }
 },
 "nbformat": 4,
 "nbformat_minor": 2
}
