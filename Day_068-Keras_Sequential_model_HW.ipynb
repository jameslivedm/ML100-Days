{
 "cells": [
  {
   "cell_type": "code",
   "execution_count": 9,
   "metadata": {},
   "outputs": [],
   "source": [
    "# 載入必須使用的 Library\n",
    "from tensorflow.keras.datasets import cifar10\n",
    "from tensorflow.keras.models import Sequential, load_model\n",
    "from tensorflow.keras.layers import Dense, Dropout, Activation, Flatten, Conv2D, MaxPooling2D\n",
    "from tensorflow.keras.utils import to_categorical\n",
    "from tensorflow.keras.optimizers import Adam"
   ]
  },
  {
   "cell_type": "markdown",
   "metadata": {},
   "source": [
    "# 作業:\n",
    "請修改input shape: (Conv2D(64, (3, 3))的設定, 新增一層 Dense 並觀看 model.summary 的輸出"
   ]
  },
  {
   "cell_type": "code",
   "execution_count": 5,
   "metadata": {},
   "outputs": [
    {
     "name": "stdout",
     "output_type": "stream",
     "text": [
      "Downloading data from https://www.cs.toronto.edu/~kriz/cifar-10-python.tar.gz\n",
      "170500096/170498071 [==============================] - 128s 1us/step\n"
     ]
    }
   ],
   "source": [
    "batch_size = 16\n",
    "num_classes = 10\n",
    "epochs = 10\n",
    "(x_train, y_train), (x_test, y_test) = cifar10.load_data()\n",
    "y_train = to_categorical(y_train, num_classes)\n",
    "y_test = to_categorical(y_test, num_classes)\n",
    "\n",
    "x_train = x_train.astype('float32') / 255.0\n",
    "x_test = x_test.astype('float32') / 255.0"
   ]
  },
  {
   "cell_type": "code",
   "execution_count": 8,
   "metadata": {},
   "outputs": [],
   "source": [
    "# build our CNN model, 多加幾層\n",
    "model = Sequential()\n",
    "model.add(Conv2D(64, (3, 3), padding='same',\n",
    "                 input_shape=x_train.shape[1:]))\n",
    "model.add(Flatten())\n",
    "model.add(Dense(512))\n",
    "model.add(Activation('relu'))\n",
    "model.add(Dropout(0.5))\n",
    "model.add(Dense(512))\n",
    "model.add(Activation('relu'))\n",
    "model.add(Dropout(0.5))\n",
    "model.add(Dense(num_classes))\n",
    "model.add(Activation('softmax'))"
   ]
  },
  {
   "cell_type": "code",
   "execution_count": 10,
   "metadata": {},
   "outputs": [
    {
     "name": "stdout",
     "output_type": "stream",
     "text": [
      "Train on 40000 samples, validate on 10000 samples\n",
      "WARNING:tensorflow:From D:\\Anaconda3\\lib\\site-packages\\tensorflow\\python\\ops\\math_ops.py:3066: to_int32 (from tensorflow.python.ops.math_ops) is deprecated and will be removed in a future version.\n",
      "Instructions for updating:\n",
      "Use tf.cast instead.\n",
      "Epoch 1/10\n",
      "40000/40000 [==============================] - 181s 5ms/sample - loss: 2.1910 - acc: 0.2358 - val_loss: 1.8608 - val_acc: 0.3372\n",
      "Epoch 2/10\n",
      "40000/40000 [==============================] - 179s 4ms/sample - loss: 1.8868 - acc: 0.3188 - val_loss: 1.7721 - val_acc: 0.3970\n",
      "Epoch 3/10\n",
      "40000/40000 [==============================] - 180s 5ms/sample - loss: 1.8024 - acc: 0.3530 - val_loss: 1.7560 - val_acc: 0.4110\n",
      "Epoch 4/10\n",
      "40000/40000 [==============================] - 179s 4ms/sample - loss: 1.7212 - acc: 0.3840 - val_loss: 1.6929 - val_acc: 0.4292\n",
      "Epoch 5/10\n",
      "40000/40000 [==============================] - 173s 4ms/sample - loss: 1.6827 - acc: 0.3977 - val_loss: 1.6602 - val_acc: 0.4452\n",
      "Epoch 6/10\n",
      "40000/40000 [==============================] - 187s 5ms/sample - loss: 1.6402 - acc: 0.4130 - val_loss: 1.6705 - val_acc: 0.4412\n",
      "Epoch 7/10\n",
      "40000/40000 [==============================] - 186s 5ms/sample - loss: 1.5995 - acc: 0.4285 - val_loss: 1.6409 - val_acc: 0.4573\n",
      "Epoch 8/10\n",
      "40000/40000 [==============================] - 178s 4ms/sample - loss: 1.5712 - acc: 0.4388 - val_loss: 1.6053 - val_acc: 0.4691\n",
      "Epoch 9/10\n",
      "40000/40000 [==============================] - 161s 4ms/sample - loss: 1.5505 - acc: 0.4443 - val_loss: 1.5848 - val_acc: 0.4741\n",
      "Epoch 10/10\n",
      "40000/40000 [==============================] - 160s 4ms/sample - loss: 1.5065 - acc: 0.4578 - val_loss: 1.6006 - val_acc: 0.4609\n",
      "10000/10000 [==============================] - 7s 700us/sample - loss: 1.5909 - acc: 0.4615\n",
      "Test accuracy: 0.4615\n"
     ]
    }
   ],
   "source": [
    "# initiate Adam optimizer\n",
    "opt = Adam()\n",
    "\n",
    "# Let's train the model using Adam\n",
    "model.compile(loss='categorical_crossentropy',optimizer=opt,metrics=['accuracy'])\n",
    "\n",
    "model_history = model.fit(x_train, y_train, validation_split=0.2, epochs=10, batch_size=128, verbose=1)  \n",
    "\n",
    "# Score trained model.\n",
    "scores = model.evaluate(x_test, y_test, verbose=1)\n",
    "print('Test accuracy:', scores[1])"
   ]
  },
  {
   "cell_type": "code",
   "execution_count": null,
   "metadata": {},
   "outputs": [],
   "source": []
  }
 ],
 "metadata": {
  "kernelspec": {
   "display_name": "Python 3",
   "language": "python",
   "name": "python3"
  },
  "language_info": {
   "codemirror_mode": {
    "name": "ipython",
    "version": 3
   },
   "file_extension": ".py",
   "mimetype": "text/x-python",
   "name": "python",
   "nbconvert_exporter": "python",
   "pygments_lexer": "ipython3",
   "version": "3.7.1"
  }
 },
 "nbformat": 4,
 "nbformat_minor": 2
}
